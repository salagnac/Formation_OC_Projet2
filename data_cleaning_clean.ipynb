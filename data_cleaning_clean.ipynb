{
 "cells": [
  {
   "attachments": {},
   "cell_type": "markdown",
   "id": "a5a96d45",
   "metadata": {},
   "source": [
    "# Initialisation du notebook"
   ]
  },
  {
   "attachments": {},
   "cell_type": "markdown",
   "id": "9b98b429",
   "metadata": {},
   "source": [
    "Chargement des packages python"
   ]
  },
  {
   "cell_type": "code",
   "execution_count": null,
   "id": "fd41a2bc-a3c7-43ea-be20-40f8f0505de8",
   "metadata": {},
   "outputs": [],
   "source": [
    "import typing\n",
    "from pathlib import Path\n",
    "\n",
    "import pandas as pd\n",
    "\n",
    "pd.set_option(\"display.max_rows\", 200)\n",
    "import numpy as np\n",
    "import matplotlib as mpl\n",
    "from matplotlib import pyplot as plt\n",
    "import seaborn as sns\n",
    "\n",
    "import bokeh\n",
    "import bokeh.io\n",
    "\n",
    "bokeh.io.output_notebook()\n"
   ]
  },
  {
   "attachments": {},
   "cell_type": "markdown",
   "id": "47654f9b",
   "metadata": {},
   "source": [
    "Réglage du formatage des figures matplolib."
   ]
  },
  {
   "cell_type": "code",
   "execution_count": null,
   "id": "53505761",
   "metadata": {},
   "outputs": [],
   "source": [
    "import matplotlib\n",
    "\n",
    "matplotlib.rcdefaults()\n",
    "matplotlib.rc(\n",
    "    \"axes\",\n",
    "    labelsize=\"large\",\n",
    "    labelweight=\"bold\",\n",
    "    titlesize=\"xx-large\",\n",
    "    titleweight=\"bold\",\n",
    ")\n"
   ]
  },
  {
   "attachments": {},
   "cell_type": "markdown",
   "id": "9e51242e",
   "metadata": {},
   "source": [
    "Chargement du jeu données OpenFoodFact et initialisation des variables globales."
   ]
  },
  {
   "cell_type": "code",
   "execution_count": null,
   "id": "28e7243a-450a-4134-91f5-9b3ec1c28ae6",
   "metadata": {
    "tags": []
   },
   "outputs": [],
   "source": [
    "try:\n",
    "    print(data_raw.shape)\n",
    "except NameError:\n",
    "    data_raw = pd.read_csv(\"fr.openfoodfacts.org.products.csv\", sep=\"\\t\")\n",
    "    print(data_raw.shape)\n"
   ]
  },
  {
   "cell_type": "code",
   "execution_count": null,
   "id": "0b76b397-7bc5-4ba8-930d-3e7d8cae6f8c",
   "metadata": {
    "tags": []
   },
   "outputs": [],
   "source": [
    "from dataclasses import dataclass\n",
    "\n",
    "\n",
    "@dataclass\n",
    "class GlobalState:\n",
    "    data_raw = None\n",
    "    data = None\n",
    "\n",
    "\n",
    "g = GlobalState()\n",
    "g.data_raw = data_raw\n",
    "g.data = data_raw\n"
   ]
  },
  {
   "attachments": {},
   "cell_type": "markdown",
   "id": "32b8ef7b",
   "metadata": {},
   "source": [
    "Définitions de fonctions utilisées tout au long de ce notebook."
   ]
  },
  {
   "cell_type": "code",
   "execution_count": null,
   "id": "b54107ab-e4a6-491c-88f2-a5d5ffb72b1c",
   "metadata": {
    "tags": []
   },
   "outputs": [],
   "source": [
    "def feature_summary(data):\n",
    "    col_names = list(data.columns)\n",
    "    dtypes = [data[col].dtype.name for col in data]\n",
    "    types = [type(data[col].iloc[0]).__name__ for col in data]\n",
    "    nb_unique_val = [\n",
    "        f\"{len(data[col].unique())}\"\n",
    "        if isinstance(data[col].iloc[0], typing.Hashable)\n",
    "        else \"_\"\n",
    "        for col in data\n",
    "    ]\n",
    "    ratio_null = [data[col].isnull().sum() / data[col].shape[0] * 100 for col in data]\n",
    "\n",
    "    table = pd.DataFrame(\n",
    "        {\n",
    "            \"columns\": col_names,\n",
    "            \"DType\": dtypes,\n",
    "            \"Type\": types,\n",
    "            \"Nb unique values\": nb_unique_val,\n",
    "            \"% null\": ratio_null,\n",
    "        }\n",
    "    ).set_index(\"columns\")\n",
    "    table = table.style.background_gradient(\n",
    "        axis=None, vmin=0, vmax=np.max(ratio_null), cmap=\"Reds\", subset=[\"% null\"]\n",
    "    )\n",
    "    return table\n",
    "\n",
    "\n",
    "def drop_null_features(data, max_ratio_null=0.8):\n",
    "    valid_columns = [\n",
    "        col for col in data if data[col].count() / data.shape[0] > (1 - max_ratio_null)\n",
    "    ]\n",
    "    return data[valid_columns]\n",
    "\n",
    "\n",
    "def drop_features(data, features):\n",
    "    subset_columns = [col for col in data if col not in features]\n",
    "    return data[subset_columns]\n",
    "\n",
    "\n",
    "def add_feature_in_france(data):\n",
    "    data[\"in_france\"] = [\"france\" in str(v) for v in data[\"countries_tags\"]]\n",
    "    return data\n",
    "\n",
    "\n",
    "def only_products_from_france(data):\n",
    "    new_data = data[data[\"in_france\"]]\n",
    "    return drop_features(new_data, [\"in_france\"])\n",
    "\n",
    "\n",
    "def count_nb_nan_per_row(data):\n",
    "    return data.isnull().sum(axis=1)\n",
    "\n",
    "\n",
    "def remove_products_with_too_much_nan(data, nb_nans_max):\n",
    "    return data[count_nb_nan_per_row(data) <= nb_nans_max]\n",
    "\n",
    "\n",
    "def get_numerical_features(data):\n",
    "    return [col for col in data if pd.api.types.is_numeric_dtype(data[col])]\n",
    "\n",
    "\n",
    "def get_categorical_features(data):\n",
    "    return [col for col in data if not pd.api.types.is_numeric_dtype(data[col])]\n",
    "\n",
    "\n",
    "def get_category_unique(column):\n",
    "    values = [vv for v in column for vv in str(v).split(\",\")]\n",
    "    return list(np.unique(values, return_counts=True))\n",
    "\n",
    "\n",
    "class CompareFeature:\n",
    "    def __init__(self, data, features):\n",
    "        self.data = data[features]\n",
    "        self.features = features\n",
    "        for i, f in enumerate(features):\n",
    "            setattr(self, f\"f{i}\", f)\n",
    "\n",
    "    def diff_nan(self):\n",
    "        nb_nan = np.sum(pd.isnull(self.data), axis=1)\n",
    "        return self.data[(nb_nan > 0) & (nb_nan < len(self.features))]\n"
   ]
  },
  {
   "attachments": {},
   "cell_type": "markdown",
   "id": "b9dab6e9-eaee-46a4-908b-2c95c416e890",
   "metadata": {
    "presto": {
     "id": "8bbbdfc1-d962-4880-9933-af36fafc9c25"
    },
    "tags": []
   },
   "source": [
    "# Exploration et nettoyage des données"
   ]
  },
  {
   "attachments": {},
   "cell_type": "markdown",
   "id": "b393be30",
   "metadata": {},
   "source": [
    "Regardons le dataset OpenFoodFacts."
   ]
  },
  {
   "cell_type": "code",
   "execution_count": null,
   "id": "471c634a-d84b-4dd2-bdb7-7ee4e89ee7f3",
   "metadata": {
    "tags": []
   },
   "outputs": [],
   "source": [
    "def dataset_summary(data, title):\n",
    "    print(title)\n",
    "    print(f\"Nombre de produits : {data.shape[0]}\")\n",
    "    print(f\"Nombre de variables : {data.shape[1]}\")\n",
    "    return data.sample(10)\n",
    "\n",
    "\n",
    "dataset_summary(g.data_raw, \"Dataset originel:\")\n"
   ]
  },
  {
   "attachments": {},
   "cell_type": "markdown",
   "id": "d74106a0",
   "metadata": {},
   "source": [
    "## Produits vendus en France"
   ]
  },
  {
   "attachments": {},
   "cell_type": "markdown",
   "id": "e7d00163",
   "metadata": {},
   "source": [
    "Regardons le ratio du nombre de produits vendus par pays. Nous affichons uniquement les 5 premiers pays où il y a le plus de produits vendus. Un produit peut être vendu dans plusieurs pays et peut donc être comptabilisé dans les ratios de plusieurs pays. "
   ]
  },
  {
   "cell_type": "code",
   "execution_count": null,
   "id": "9a6fb745",
   "metadata": {},
   "outputs": [],
   "source": [
    "unique_values, value_counts = get_category_unique(g.data_raw[\"countries_fr\"])\n",
    "df = (\n",
    "    pd.DataFrame({\"country\": unique_values, \"ratio\": value_counts / len(g.data_raw)})\n",
    "    .sort_values(by=\"ratio\", ascending=False)\n",
    "    .head(10)\n",
    ")\n",
    "\n",
    "df.plot.barh(\n",
    "    x=\"country\",\n",
    "    y=\"ratio\",\n",
    "    color=[\"blue\" if country != \"France\" else \"red\" for country in df[\"country\"]],\n",
    ")\n",
    "plt.gca().get_legend().remove()\n",
    "plt.xlabel(\"Ratio des produits\")\n",
    "_ = plt.ylabel(\"Pays\")\n"
   ]
  },
  {
   "attachments": {},
   "cell_type": "markdown",
   "id": "c3cda78f",
   "metadata": {},
   "source": [
    "L'application, qui sera développée, ne visera que le marché français dans un premier temps. Nous éliminons donc les produits qui ne sont pas vendus en France."
   ]
  },
  {
   "cell_type": "code",
   "execution_count": null,
   "id": "d57b97b7-9b88-4c12-8156-32f7ad496f87",
   "metadata": {
    "scrolled": true,
    "tags": []
   },
   "outputs": [],
   "source": [
    "add_feature_in_france(g.data_raw)\n",
    "\n",
    "g.data = only_products_from_france(g.data_raw)\n",
    "\n",
    "dataset_summary(g.data_raw, \"Dataset originel:\")\n",
    "print()\n",
    "dataset_summary(g.data, \"Dataset nettoyé (en cours):\")\n"
   ]
  },
  {
   "attachments": {},
   "cell_type": "markdown",
   "id": "0e207876",
   "metadata": {},
   "source": [
    "## Nettoyage des variables"
   ]
  },
  {
   "attachments": {},
   "cell_type": "markdown",
   "id": "421bc673",
   "metadata": {},
   "source": [
    "Nous retirons les variables qui n'ont pas d'intérêt pour la prédiction du Nutri-Score."
   ]
  },
  {
   "cell_type": "code",
   "execution_count": null,
   "id": "ad001cff-c80f-4e6b-a219-65dda96b1db0",
   "metadata": {
    "tags": []
   },
   "outputs": [],
   "source": [
    "g.data = drop_features(\n",
    "    g.data,\n",
    "    [\n",
    "        # \"code\",\n",
    "        \"url\",\n",
    "        # \"product_name\",\n",
    "        \"image_url\",\n",
    "        \"image_small_url\",\n",
    "        \"creator\",\n",
    "        \"created_datetime\",\n",
    "        # \"created_t\",\n",
    "        \"last_modified_t\",\n",
    "        \"last_modified_datetime\",\n",
    "        \"packaging\",\n",
    "        \"packaging_tags\",\n",
    "        \"countries\",\n",
    "        \"countries_fr\",\n",
    "        \"countries_tags\",\n",
    "        \"states\",\n",
    "        \"states_tags\",\n",
    "        \"states_fr\",\n",
    "        \"quantity\",\n",
    "        \"purchase_places\",\n",
    "        # \"ingredients_text\",\n",
    "        \"categories\",\n",
    "        \"categories_tags\",\n",
    "        \"main_category\",\n",
    "        \"brands_tags\",\n",
    "        \"nutrition-score-uk_100g\",\n",
    "    ],\n",
    ")\n"
   ]
  },
  {
   "attachments": {},
   "cell_type": "markdown",
   "id": "681d8f3b",
   "metadata": {},
   "source": [
    "Regardons le taux de remplissage par variables."
   ]
  },
  {
   "cell_type": "code",
   "execution_count": null,
   "id": "6c4b0556",
   "metadata": {},
   "outputs": [],
   "source": [
    "# feature_summary(g.data)\n",
    "plt.figure(figsize=(10, 15), dpi=100)\n",
    "(~g.data.isnull()).mean().sort_values().plot.barh(width=0.8)\n",
    "plt.yticks(fontsize=5)\n",
    "plt.axvline(x=0.45, color=\"red\")\n",
    "plt.xlabel(\"Taux de remplissage par variable\")\n",
    "plt.ylabel(\"Variables\")\n",
    "_ = plt.xlim(0, 1)\n"
   ]
  },
  {
   "attachments": {},
   "cell_type": "markdown",
   "id": "387c27ff",
   "metadata": {},
   "source": [
    "Nous enlevons les variables avec trop de valeurs manquantes, ici toutes les variables avec un taux de remplissage inferieur à 45%."
   ]
  },
  {
   "attachments": {},
   "cell_type": "markdown",
   "id": "4580175b",
   "metadata": {},
   "source": [
    "## Netoyage des produits selon leur taux de remplissage"
   ]
  },
  {
   "cell_type": "code",
   "execution_count": null,
   "id": "eafcdf12",
   "metadata": {},
   "outputs": [],
   "source": [
    "g.data = drop_null_features(g.data, max_ratio_null=0.55)\n",
    "dataset_summary(g.data_raw, \"Dataset originel:\")\n",
    "print()\n",
    "dataset_summary(g.data, \"Dataset nettoyé (en cours):\")\n",
    "feature_summary(g.data)\n"
   ]
  },
  {
   "attachments": {},
   "cell_type": "markdown",
   "id": "fa09e55f",
   "metadata": {},
   "source": [
    "Intéressons nous, maintenant, aux valeurs manquant par produit."
   ]
  },
  {
   "cell_type": "code",
   "execution_count": null,
   "id": "1a384340-b78a-4945-8c73-937cfae7cad0",
   "metadata": {
    "tags": []
   },
   "outputs": [],
   "source": [
    "(\n",
    "    g.data.isnull().sum(axis=1).value_counts().sort_index().cumsum() / g.data.shape[0]\n",
    ").plot.bar()\n",
    "plt.axvline(15.5, color=\"red\")\n",
    "plt.xlabel(\"Nb de valeurs manquantes par produit\")\n",
    "plt.ylabel(\"Fraction cummulative\\ndu nombre total de produits\")\n",
    "_ = plt.ylim(0, 1)\n"
   ]
  },
  {
   "attachments": {},
   "cell_type": "markdown",
   "id": "be5b75dd",
   "metadata": {},
   "source": [
    "Nous éliminons les produits avec trop de valeurs manquants. En effet, de telles produits sont si peu remplis qu'ils sont impossibles à traiter. Nous fixons ici la limite à un nombre limite de valeurs manquantes à 16, ce qui exclut environ 25% des produits."
   ]
  },
  {
   "cell_type": "code",
   "execution_count": null,
   "id": "764851e3-1bb1-4d40-8273-297a1228ab83",
   "metadata": {
    "tags": []
   },
   "outputs": [],
   "source": [
    "g.data = remove_products_with_too_much_nan(g.data, nb_nans_max=15)\n"
   ]
  },
  {
   "cell_type": "code",
   "execution_count": null,
   "id": "866df396",
   "metadata": {},
   "outputs": [],
   "source": [
    "dataset_summary(g.data_raw, \"Dataset originel:\")\n",
    "dataset_summary(g.data, \"Dataset nettoyé (en cours):\")\n",
    "feature_summary(g.data)\n"
   ]
  },
  {
   "cell_type": "code",
   "execution_count": null,
   "id": "7bd62083",
   "metadata": {},
   "outputs": [],
   "source": [
    "g.data.sample(10)\n"
   ]
  },
  {
   "attachments": {},
   "cell_type": "markdown",
   "id": "9a7e65f9",
   "metadata": {},
   "source": [
    "## Exploration du Nutri-Score"
   ]
  },
  {
   "cell_type": "code",
   "execution_count": null,
   "id": "b7c5871b",
   "metadata": {},
   "outputs": [],
   "source": [
    "g.data[[\"nutrition_grade_fr\", \"nutrition-score-fr_100g\"]].sample(10)\n"
   ]
  },
  {
   "attachments": {},
   "cell_type": "markdown",
   "id": "39a35627",
   "metadata": {},
   "source": [
    "Nous convertissons la variable \"nutrition_grade_fr\" (Nutri-Score) dans un format catégoriel ordonné et formatés en majuscule."
   ]
  },
  {
   "cell_type": "code",
   "execution_count": null,
   "id": "fd9c2404",
   "metadata": {},
   "outputs": [],
   "source": [
    "g.data[\"nutrition_grade_fr\"] = pd.Categorical(\n",
    "    g.data.nutrition_grade_fr, ordered=True\n",
    ").rename_categories(list(\"ABCDE\"))\n",
    "\n",
    "# g.data[\"nutrition_grade_fr\"] = (\n",
    "#     g.data[\"nutrition_grade_fr\"].cat.add_categories([\"NaN\"]).fillna(\"NaN\")\n",
    "# )\n"
   ]
  },
  {
   "attachments": {},
   "cell_type": "markdown",
   "id": "06dbb8da",
   "metadata": {},
   "source": [
    "## Exploration des variables \"catégories\""
   ]
  },
  {
   "cell_type": "code",
   "execution_count": null,
   "id": "a886b1b1",
   "metadata": {},
   "outputs": [],
   "source": [
    "features_category = [\n",
    "    \"main_category_fr\",\n",
    "    \"categories_fr\",\n",
    "    \"pnns_groups_1\",\n",
    "    \"pnns_groups_2\",\n",
    "]\n",
    "g.data[features_category].sample(10)\n"
   ]
  },
  {
   "cell_type": "code",
   "execution_count": null,
   "id": "eff7650b",
   "metadata": {},
   "outputs": [],
   "source": [
    "import re\n",
    "import unicodedata\n",
    "\n",
    "regex_bad_char = re.compile(r\"[^a-zA-Z\\s]\")\n",
    "regex_space = re.compile(r\"\\s+\")\n",
    "regex_tag_lang = re.compile(r\"[a-z]{2}:\")\n",
    "\n",
    "\n",
    "def normalize_str(string: str, word_sep=\" \"):\n",
    "    if pd.isna(string):\n",
    "        return pd.NA\n",
    "    string = str(string)\n",
    "    string = \"\".join(\n",
    "        c\n",
    "        for c in unicodedata.normalize(\"NFD\", string)\n",
    "        if unicodedata.category(c) != \"Mn\"\n",
    "    )\n",
    "    string = string.lower()\n",
    "    string = regex_tag_lang.sub(word_sep, string)\n",
    "    string = regex_bad_char.sub(word_sep, string)\n",
    "    string = regex_space.sub(word_sep, string)\n",
    "    string = string.strip()\n",
    "    if len(string) == 0:\n",
    "        string = pd.NA\n",
    "    return string\n",
    "\n",
    "\n",
    "def categorize(data):\n",
    "    categories_list = [ll for l in data.str.split(\",\").dropna() for ll in l]\n",
    "    categories_list = [normalize_str(s) for s in categories_list]\n",
    "    categories = np.unique(categories_list)\n",
    "    return categories.tolist()\n"
   ]
  },
  {
   "attachments": {},
   "cell_type": "markdown",
   "id": "4b58a356",
   "metadata": {},
   "source": [
    "### PNNS_groups_1 & PNNS_groups_2"
   ]
  },
  {
   "attachments": {},
   "cell_type": "markdown",
   "id": "d6713394",
   "metadata": {},
   "source": [
    "PNNS = Programme national nutrition santé "
   ]
  },
  {
   "cell_type": "code",
   "execution_count": null,
   "id": "c67ebc8e",
   "metadata": {},
   "outputs": [],
   "source": [
    "g.data[\"pnns_groups_1\"] = pd.Categorical(\n",
    "    g.data[\"pnns_groups_1\"].apply(lambda s: normalize_str(s, word_sep=\"_\")),\n",
    "    ordered=False,\n",
    ")\n",
    "print(\n",
    "    f\"Nombre de catégories: {g.data['pnns_groups_1'].cat.categories.size} (sans \\\"nan\\\")\"\n",
    ")\n",
    "g.data[\"pnns_groups_1\"].cat.add_categories([\"nan\"]).fillna(\n",
    "    \"nan\"\n",
    ").value_counts().plot.barh()\n",
    "plt.ylabel(\"PNNS groups 1\")\n",
    "_ = plt.xlabel(\"Nombre de produits\")\n"
   ]
  },
  {
   "attachments": {},
   "cell_type": "markdown",
   "id": "f6699015",
   "metadata": {},
   "source": [
    "La variable \"pnns_groups_1\" est composée de seulement 10 catégories."
   ]
  },
  {
   "cell_type": "code",
   "execution_count": null,
   "id": "f338a75f",
   "metadata": {},
   "outputs": [],
   "source": [
    "plt.figure(figsize=(6, 8))\n",
    "g.data[\"pnns_groups_2\"] = pd.Categorical(\n",
    "    g.data[\"pnns_groups_2\"].apply(lambda s: normalize_str(s, word_sep=\"_\")),\n",
    "    ordered=False,\n",
    ")\n",
    "print(\n",
    "    f\"Nombre de catégories: {g.data['pnns_groups_2'].cat.categories.size} (sans \\\"nan\\\")\"\n",
    ")\n",
    "g.data[\"pnns_groups_2\"].cat.add_categories([\"nan\"]).fillna(\n",
    "    \"nan\"\n",
    ").value_counts().plot.barh()\n",
    "plt.ylabel(\"PNNS groups 2\")\n",
    "_ = plt.xlabel(\"Nombre de produits\")\n"
   ]
  },
  {
   "attachments": {},
   "cell_type": "markdown",
   "id": "0daeb7ac",
   "metadata": {},
   "source": [
    "La variable \"pnns_groups_2\" est composée de seulement 36 catégories."
   ]
  },
  {
   "attachments": {},
   "cell_type": "markdown",
   "id": "a8c5dfd0",
   "metadata": {},
   "source": [
    "Nous allons maintenant regarder la relation entre les variable \"pnns_groups_1\" et \"pnns_groups_2\" en regardant les comptage de produits croisé selon les deux types de catégories."
   ]
  },
  {
   "cell_type": "code",
   "execution_count": null,
   "id": "fd6913a4",
   "metadata": {},
   "outputs": [],
   "source": [
    "import matplotlib.colors\n",
    "\n",
    "\n",
    "def plot_pnns_groups_1_vs_2():\n",
    "    df = g.data[[\"pnns_groups_1\", \"pnns_groups_2\"]].copy()\n",
    "    for col in df:\n",
    "        df[col] = df[col].cat.add_categories([\"nan\"]).fillna(\"nan\")\n",
    "    df = df.groupby([\"pnns_groups_2\", \"pnns_groups_1\"]).size().unstack()\n",
    "    df = df.sort_values(list(df.columns), ascending=False)\n",
    "    plt.figure(figsize=(14, 10))\n",
    "    sns.heatmap(\n",
    "        df,\n",
    "        linewidth=0.1,\n",
    "        annot=True,\n",
    "        fmt=\"d\",\n",
    "        linecolor=\"lightgray\",\n",
    "        cmap=\"Reds\",\n",
    "        vmin=-100,\n",
    "        norm=matplotlib.colors.LogNorm(),\n",
    "    )\n",
    "    _ = plt.xticks(rotation=45, ha=\"right\")\n",
    "\n",
    "\n",
    "plot_pnns_groups_1_vs_2()\n"
   ]
  },
  {
   "attachments": {},
   "cell_type": "markdown",
   "id": "4290c2b4",
   "metadata": {},
   "source": [
    "Nous remarquons que :\n",
    "- \"pnns_groups_2\" est une sous-catégories de \"pnns_groups_1\",\n",
    "- les produits avec pour sous-catégories \"alcoholic_beverages\" et \"tripe_dishes\" n'ont pas de catégorie \"pnns_groups_1\" (valeur manquante),\n",
    "- les catégorie et sous-catégorie \"unknown\" sont complétement corrélées."
   ]
  },
  {
   "attachments": {},
   "cell_type": "markdown",
   "id": "705273c5",
   "metadata": {},
   "source": [
    "Regardons maintenant les produits classées comme \"unknown\"."
   ]
  },
  {
   "cell_type": "code",
   "execution_count": null,
   "id": "a6682880",
   "metadata": {},
   "outputs": [],
   "source": [
    "g.data[\"product_name\"][g.data[\"pnns_groups_1\"] == \"unknown\"].sample(10)\n"
   ]
  },
  {
   "attachments": {},
   "cell_type": "markdown",
   "id": "648860ea",
   "metadata": {},
   "source": [
    "Nous remarquons que certains produits aurait pu être labélisés selon une catégorie extante de \"pnns_groups_1\" et \"pnns_groups_2\". Les catégories \"unknown\" peuvent être interprété comme des valeurs manquantes.\n",
    "\n",
    "Selon nos observations, nous allons associés les produits avec les sous-catégories \"alcoholic_beverages\" (boissons alcolisées) et \"tripe_dishes\" (plats à base de tripes) respectivement aux catégories \"beverages\" et \"fish_meat_egg\" de \"pnns_groups_1\".\n",
    "\n",
    "Les catégorie et sous-catégories \"unknown\" seront remplacées par des valeurs à nul pour être remplies plus tard."
   ]
  },
  {
   "cell_type": "code",
   "execution_count": null,
   "id": "16d8edb5",
   "metadata": {},
   "outputs": [],
   "source": [
    "mask_nulls_1 = g.data[\"pnns_groups_1\"].isnull()\n",
    "mask_alcohols = g.data[\"pnns_groups_2\"] == \"alcoholic_beverages\"\n",
    "mask_tripes = g.data[\"pnns_groups_2\"] == \"tripe_dishes\"\n",
    "mask_unknown = g.data[\"pnns_groups_1\"] == \"unknown\"\n",
    "\n",
    "g.data.loc[mask_alcohols, \"pnns_groups_1\"] = \"beverages\"\n",
    "g.data.loc[mask_tripes, \"pnns_groups_1\"] = \"fish_meat_eggs\"\n",
    "g.data.loc[mask_unknown, \"pnns_groups_1\"] = np.nan\n",
    "g.data.loc[mask_unknown, \"pnns_groups_2\"] = np.nan\n",
    "\n",
    "g.data[\"pnns_groups_1\"] = g.data[\"pnns_groups_1\"].cat.remove_unused_categories()\n",
    "g.data[\"pnns_groups_2\"] = g.data[\"pnns_groups_2\"].cat.remove_unused_categories()\n",
    "\n",
    "plot_pnns_groups_1_vs_2()\n"
   ]
  },
  {
   "attachments": {},
   "cell_type": "markdown",
   "id": "a83a1f74",
   "metadata": {},
   "source": [
    "### Exploration de main_category_fr & categories_fr"
   ]
  },
  {
   "cell_type": "code",
   "execution_count": null,
   "id": "33724641",
   "metadata": {},
   "outputs": [],
   "source": [
    "plt.figure(figsize=(6, 9))\n",
    "column_cat = pd.Categorical(\n",
    "    g.data[\"main_category_fr\"].apply(normalize_str), ordered=False\n",
    ")\n",
    "print(f\"Nb catégories: {len(column_cat.unique())}\")\n",
    "column_cat.value_counts().sort_values(ascending=False)[1:50].plot.barh()\n",
    "plt.xlabel(\"Nombre de produits\")\n",
    "_ = plt.ylabel(\"main_category_fr\")\n"
   ]
  },
  {
   "cell_type": "code",
   "execution_count": null,
   "id": "cb91e322",
   "metadata": {},
   "outputs": [],
   "source": [
    "plt.figure(figsize=(6, 9))\n",
    "column_cat = pd.Categorical(\n",
    "    g.data[\"categories_fr\"].apply(normalize_str).explode(),\n",
    "    ordered=False,\n",
    ")\n",
    "\n",
    "print(f\"Nb catégories: {len(column_cat.unique())}\")\n",
    "column_cat.value_counts().sort_values(ascending=False)[1:50].plot.barh()\n",
    "plt.xlabel(\"Nombre de produits\")\n",
    "_ = plt.ylabel(\"categories_fr\")\n"
   ]
  },
  {
   "attachments": {},
   "cell_type": "markdown",
   "id": "94bb8ffc",
   "metadata": {},
   "source": [
    "#### Embeddings des intitulées de catégories principales"
   ]
  },
  {
   "cell_type": "code",
   "execution_count": null,
   "id": "264e1382",
   "metadata": {},
   "outputs": [],
   "source": [
    "from sklearn.pipeline import Pipeline\n",
    "from sklearn.feature_extraction.text import TfidfVectorizer\n",
    "try:\n",
    "    # https://docs.rapids.ai/api/cuml/stable/api.html#tsne\n",
    "    from cuml.manifold import TSNE\n",
    "except Exception:\n",
    "    from sklearn.manifold import TSNE\n",
    "from umap import UMAP\n",
    "\n",
    "\n",
    "def text_feature_to_2d_coord(data, feature_name, tfidf_kwargs=None, tsne_kwargs=None, nb_samples=None, use_umap=False, force_compute=False):\n",
    "\n",
    "    df = (\n",
    "        data[feature_name]\n",
    "        .apply(lambda t: normalize_str(t))\n",
    "        .dropna()\n",
    "    )\n",
    "\n",
    "    if tfidf_kwargs is None:\n",
    "        tfidf_kwargs = dict()\n",
    "\n",
    "    text_transformer = TfidfVectorizer(**tfidf_kwargs)\n",
    "    text_transformer.fit_transform(df)\n",
    "    print(\"Nb of words used:\", len(text_transformer.get_feature_names_out()))\n",
    "    print(\"Nb of words excluded:\", len(text_transformer.stop_words_))\n",
    "    print(list(text_transformer.get_feature_names_out())[:10])\n",
    "    print(list(sorted(text_transformer.stop_words_, key=lambda s: len(s))[:10]) + list(text_transformer.stop_words_)[:10])\n",
    "    \n",
    "    if tsne_kwargs is None:\n",
    "        tsne_kwargs = dict()\n",
    "\n",
    "    if use_umap:\n",
    "        umap_kwargs_ = dict(\n",
    "            n_components=2,\n",
    "            n_neighbors=50,\n",
    "            #force_approximation_algorithm=True,\n",
    "            init=\"spectral\",\n",
    "            min_dist=5,\n",
    "            spread=5,\n",
    "            metric=\"hellinger\",\n",
    "            verbose=True,\n",
    "            n_epochs=1000,\n",
    "        )\n",
    "        umap_kwargs_.update(tsne_kwargs)\n",
    "        reducer = UMAP(**umap_kwargs_)\n",
    "    else:\n",
    "        tsne_kwargs_ = dict(\n",
    "            n_components=2,\n",
    "            perplexity=50,\n",
    "            #perplexity=200,\n",
    "            init=\"random\",\n",
    "            n_iter=10000,\n",
    "            n_iter_without_progress=1000,\n",
    "            # n_neighbors=200,\n",
    "            verbose=True,\n",
    "        )\n",
    "        tsne_kwargs_.update(tsne_kwargs)\n",
    "            \n",
    "        reducer= TSNE(**tsne_kwargs_)\n",
    "\n",
    "\n",
    "    file = Path(f\"tsne_coord_{feature_name}.npy\")\n",
    "    \n",
    "    use_cache = not force_compute\n",
    "    if use_cache and file.exists() and nb_samples is None:\n",
    "        coord_2d = np.load(file)\n",
    "    else:\n",
    "        if nb_samples:\n",
    "            df = df.sample(nb_samples)\n",
    "            \n",
    "        text_embedding = text_transformer.transform(df)\n",
    "        mask_non_null_embedding = np.array((text_embedding.sum(axis=1) != 0)).reshape(-1)\n",
    "\n",
    "        coord_2d = np.full(fill_value=np.nan, shape=(df.shape[0], 2))\n",
    "        te = text_embedding[mask_non_null_embedding]\n",
    "        coord_2d[mask_non_null_embedding] = reducer.fit_transform(te)\n",
    "\n",
    "        np.save(file, coord_2d)\n",
    "\n",
    "    data[f\"{feature_name}_emb_x\"] = pd.Series(np.nan)\n",
    "    data.loc[df.index, f\"{feature_name}_emb_x\"] = coord_2d[:, 0]\n",
    "\n",
    "    data[f\"{feature_name}_emb_y\"] = pd.Series(np.nan)\n",
    "    data.loc[df.index, f\"{feature_name}_emb_y\"] = coord_2d[:, 1]\n",
    "\n",
    "    "
   ]
  },
  {
   "cell_type": "code",
   "execution_count": null,
   "id": "56a91c1d",
   "metadata": {},
   "outputs": [],
   "source": [
    "from bokeh.plotting import figure, show\n",
    "from bokeh.models import Legend, ColumnDataSource, HoverTool\n",
    "from itertools import cycle\n",
    "\n",
    "\n",
    "def style_color_marker(n, color_list, marker_list):\n",
    "    style_list = []\n",
    "    all_styles = cycle(\n",
    "        [(color, marker) for marker in marker_list for color in color_list]\n",
    "    )\n",
    "    return [next(all_styles) for _ in range(n)]\n",
    "\n",
    "\n",
    "def plot_tsne_with_bokeh(\n",
    "    data, tsne_var, group_cat, tooltip_var=[\"product_name\", \"nutrition_grade_fr\"]\n",
    "):\n",
    "    data = pd.DataFrame(data)\n",
    "\n",
    "    cat_column = (\n",
    "        data[group_cat].astype(\"category\").cat.add_categories([\"NaN\"]).fillna(\"NaN\")\n",
    "    )\n",
    "    categories = cat_column.cat.categories\n",
    "\n",
    "    p = figure(\n",
    "        height=600,\n",
    "        width=900 + len(categories) // 19 * 230,\n",
    "        tools=\"pan,wheel_zoom,reset\",\n",
    "    )\n",
    "    try:\n",
    "        p.add_layout(Legend(ncols=2, nrows=19), \"right\")  # bokeh 3.X\n",
    "    except Exception:\n",
    "        p.add_layout(Legend())  # bokeh 2.X\n",
    "\n",
    "    colors = sns.color_palette(\"tab10\").as_hex()\n",
    "    markers = [\n",
    "        \"circle\",\n",
    "        \"triangle\",\n",
    "        \"square\",\n",
    "        \"plus\",\n",
    "        \"star\",\n",
    "        \"square_pin\",\n",
    "        \"inverted_triangle\",\n",
    "        \"diamond\",\n",
    "        \"hex\",\n",
    "    ]\n",
    "\n",
    "    renderer_list = []\n",
    "    for (\n",
    "        group,\n",
    "        (color, marker),\n",
    "    ) in zip(categories, style_color_marker(len(categories), colors, markers)):\n",
    "        mask = cat_column[data.index] == group\n",
    "        df = data[mask]\n",
    "        data_source = ColumnDataSource(df)\n",
    "\n",
    "        glyph = p.scatter(\n",
    "            source=data_source,\n",
    "            x=f\"{tsne_var}_emb_x\",\n",
    "            y=f\"{tsne_var}_emb_y\",\n",
    "            legend_label=str(group),\n",
    "            fill_alpha=0.4,\n",
    "            size=8,\n",
    "            line_width=0.2,\n",
    "            line_color=\"white\",\n",
    "            color=color,\n",
    "            marker=marker,\n",
    "        )\n",
    "        renderer_list.append(glyph)\n",
    "        # glyph.muted = True\n",
    "\n",
    "    hover_tool = HoverTool(\n",
    "        renderers=renderer_list,\n",
    "        tooltips=[(var, f\"@{var}\") for var in tooltip_var],\n",
    "    )\n",
    "    p.add_tools(hover_tool)\n",
    "    p.legend.click_policy = \"hide\"\n",
    "\n",
    "    p.xaxis.axis_label = \"Embedding X\"\n",
    "    p.xaxis.axis_label_text_font_style = \"bold\"\n",
    "    p.yaxis.axis_label = \"Embedding Y\"\n",
    "    p.yaxis.axis_label_text_font_style = \"bold\"\n",
    "\n",
    "    return p\n",
    "\n",
    "\n",
    "def plot_tsne_with_matplotlib(data, tsne_var, group_cat):\n",
    "    data,\n",
    "    tsne_var,\n",
    "    group_cat,\n",
    "    interactive_plot = (False,)\n",
    "    tooltip_var = ([\"product_name\", \"nutrition_grade_fr\"],)\n",
    "\n",
    "    cat_column = data[group_cat].astype(\n",
    "        \"category\"\n",
    "    )  # .cat.add_categories([\"NaN\"]).fillna(\"NaN\")\n",
    "    categories = cat_column.cat.categories\n",
    "\n",
    "    colors = sns.color_palette(\"tab10\").as_hex()\n",
    "    markers = [\n",
    "        \".\",\n",
    "        \"o\",\n",
    "        \"v\",\n",
    "        \"^\",\n",
    "        \"<\",\n",
    "        \">\",\n",
    "        \"8\",\n",
    "        \"s\",\n",
    "        \"p\",\n",
    "        \"*\",\n",
    "        \"h\",\n",
    "        \"H\",\n",
    "        \"D\",\n",
    "        \"d\",\n",
    "        \"P\",\n",
    "        \"X\",\n",
    "    ]\n",
    "\n",
    "    plt.figure(figsize=(12, 12))\n",
    "    for (\n",
    "        group,\n",
    "        (color, marker),\n",
    "    ) in zip(categories, style_color_marker(len(categories), colors, markers)):\n",
    "        mask = cat_column[data.index] == group\n",
    "        df = data[mask]\n",
    "        plt.scatter(\n",
    "            x=df[f\"{tsne_var}_emb_x\"],\n",
    "            y=df[f\"{tsne_var}_emb_y\"],\n",
    "            label=str(group),\n",
    "            c=color,\n",
    "            marker=marker,\n",
    "            alpha=0.2,\n",
    "            lw=0,\n",
    "        )\n",
    "    plt.xlabel(\"Embedding X\")\n",
    "    plt.ylabel(\"Embedding Y\")\n",
    "    leg = plt.legend(loc=\"center left\", bbox_to_anchor=(1, 0.5))\n",
    "    for lh in leg.legendHandles:\n",
    "        lh.set_alpha(1)\n",
    "        lh.set_sizes([120])\n",
    "    return plt.gca()\n",
    "\n",
    "\n",
    "def plot_tsne(\n",
    "    data,\n",
    "    tsne_var,\n",
    "    group_cat,\n",
    "    interactive_plot=False,\n",
    "    tooltip_var=[\"product_name\", \"nutrition_grade_fr\"],\n",
    "    plot=True,\n",
    "):\n",
    "    if interactive_plot:\n",
    "        plot = plot_tsne_with_bokeh(data, tsne_var, group_cat, tooltip_var)\n",
    "        show(plot)\n",
    "        return plot\n",
    "    else:\n",
    "        return plot_tsne_with_matplotlib(data, tsne_var, group_cat)\n"
   ]
  },
  {
   "cell_type": "code",
   "execution_count": null,
   "id": "c558f663",
   "metadata": {},
   "outputs": [],
   "source": [
    "variable = \"main_category_fr\"\n",
    "df = pd.DataFrame(\n",
    "    {\"main_category\": g.data[variable].apply(normalize_str).fillna(\"NA\").unique()}\n",
    ")\n",
    "df_counts = g.data[variable].apply(normalize_str).fillna(\"NA\").value_counts()\n",
    "df[\"counts\"] = [df_counts[v] for v in df[\"main_category\"]]\n",
    "\n",
    "\n",
    "threshold = (1, 10, 50, 100, 500, 1000, 1500)\n",
    "condlist = [df[\"counts\"] <= n for n in threshold]\n",
    "choicelist = [f\"n <= {n}\" for n in threshold] + [f\"n > {threshold[-1]}\"]\n",
    "df[\"cat\"] = pd.Categorical(\n",
    "    np.select(condlist, choicelist[:-1], default=\"inf\"), categories=choicelist\n",
    ")\n",
    "\n",
    "text_feature_to_2d_coord(\n",
    "    data=df,\n",
    "    feature_name=\"main_category\",\n",
    "    tfidf_kwargs=dict(min_df=2, max_df=0.2),\n",
    "    tsne_kwargs=dict(perplexity=100, n_iter=2000),\n",
    "    # use_umap=True,\n",
    "    # tsne_kwargs=dict(n_neighbors=10, min_dist=0.1, spread=0.1),\n",
    "    # force_compute=True,\n",
    ")\n",
    "plot = plot_tsne(\n",
    "    df,\n",
    "    \"main_category\",\n",
    "    group_cat=\"cat\",\n",
    "    tooltip_var=[\"main_category\", \"counts\", \"cat\"],\n",
    "    interactive_plot=False,\n",
    ")\n"
   ]
  },
  {
   "cell_type": "code",
   "execution_count": null,
   "id": "a94d08c8",
   "metadata": {},
   "outputs": [],
   "source": [
    "df = df.set_index(\"main_category\")\n",
    "\n",
    "g.data[\"main_category_fr_emb_x\"] = [\n",
    "    df.loc[cat][\"main_category_emb_x\"]\n",
    "    for cat in g.data[\"main_category_fr\"].apply(normalize_str).fillna(\"NA\")\n",
    "]\n",
    "g.data[\"main_category_fr_emb_y\"] = [\n",
    "    df.loc[cat][\"main_category_emb_y\"]\n",
    "    for cat in g.data[\"main_category_fr\"].apply(normalize_str).fillna(\"NA\")\n",
    "]\n"
   ]
  },
  {
   "cell_type": "code",
   "execution_count": null,
   "id": "797050c4",
   "metadata": {},
   "outputs": [],
   "source": [
    "# plot = plot_tsne(\n",
    "#     g.data,\n",
    "#     \"main_category_fr\",\n",
    "#     group_cat=\"pnns_groups_1\",\n",
    "#     tooltip_var=[\"product_name\", \"nutrition_grade_fr\", \"main_category_fr\"],\n",
    "# )\n",
    "# show(plot)\n"
   ]
  },
  {
   "attachments": {},
   "cell_type": "markdown",
   "id": "03f7a5f6",
   "metadata": {},
   "source": [
    "#### Embeddings des intitulées de catégories secondaires"
   ]
  },
  {
   "cell_type": "code",
   "execution_count": null,
   "id": "ea67080a",
   "metadata": {},
   "outputs": [],
   "source": [
    "variable = \"categories_fr\"\n",
    "df = pd.DataFrame(\n",
    "    {\"category\": g.data[variable].apply(normalize_str).fillna(\"NA\").unique()}\n",
    ")\n",
    "df_counts = g.data[variable].apply(normalize_str).fillna(\"NA\").value_counts()\n",
    "df[\"counts\"] = [df_counts[v] for v in df[\"category\"]]\n",
    "\n",
    "\n",
    "threshold = (1, 10, 50, 100)\n",
    "condlist = [df[\"counts\"] <= n for n in threshold]\n",
    "choicelist = [f\"n <= {n}\" for n in threshold] + [f\"n > {threshold[-1]}\"]\n",
    "df[\"cat\"] = pd.Categorical(\n",
    "    np.select(condlist, choicelist[:-1], default=\"inf\"), categories=choicelist\n",
    ")\n",
    "\n",
    "text_feature_to_2d_coord(\n",
    "    data=df,\n",
    "    feature_name=\"category\",\n",
    "    tfidf_kwargs=dict(min_df=2, max_df=0.5),\n",
    "    tsne_kwargs=dict(perplexity=100, n_iter=2000),\n",
    "    # use_umap=True,\n",
    "    # tsne_kwargs=dict(n_neighbors=10, min_dist=0.1, spread=0.1),\n",
    "    # force_compute=True,\n",
    ")\n",
    "plot = plot_tsne(\n",
    "    df,\n",
    "    \"category\",\n",
    "    group_cat=\"cat\",\n",
    "    tooltip_var=[\"category\", \"counts\", \"cat\"],\n",
    "    interactive_plot=False,\n",
    ")\n"
   ]
  },
  {
   "cell_type": "code",
   "execution_count": null,
   "id": "2ca8f432",
   "metadata": {},
   "outputs": [],
   "source": [
    "df = df.set_index(\"category\")\n",
    "\n",
    "g.data[\"categories_fr_emb_x\"] = [\n",
    "    df.loc[cat][\"category_emb_x\"]\n",
    "    for cat in g.data[\"categories_fr\"].apply(normalize_str).fillna(\"NA\")\n",
    "]\n",
    "g.data[\"categories_fr_emb_y\"] = [\n",
    "    df.loc[cat][\"category_emb_y\"]\n",
    "    for cat in g.data[\"categories_fr\"].apply(normalize_str).fillna(\"NA\")\n",
    "]\n"
   ]
  },
  {
   "cell_type": "code",
   "execution_count": null,
   "id": "86cf97ad",
   "metadata": {},
   "outputs": [],
   "source": [
    "# plot = plot_tsne(\n",
    "#     g.data,\n",
    "#     \"categories_fr\",\n",
    "#     group_cat=\"pnns_groups_1\",\n",
    "#     tooltip_var=[\"product_name\", \"nutrition_grade_fr\", \"categories_fr\"],\n",
    "# )\n",
    "# show(plot)\n"
   ]
  },
  {
   "attachments": {},
   "cell_type": "markdown",
   "id": "3b09e050",
   "metadata": {},
   "source": [
    "## Exploration des noms de produit"
   ]
  },
  {
   "cell_type": "code",
   "execution_count": null,
   "id": "7105efa8",
   "metadata": {},
   "outputs": [],
   "source": [
    "g.data[\"product_name\"].sample(10)\n"
   ]
  },
  {
   "attachments": {},
   "cell_type": "markdown",
   "id": "6bec3083",
   "metadata": {},
   "source": [
    "### Embeddings des noms de produits"
   ]
  },
  {
   "cell_type": "code",
   "execution_count": null,
   "id": "c152491b",
   "metadata": {},
   "outputs": [],
   "source": [
    "text_feature_to_2d_coord(\n",
    "    g.data,\n",
    "    \"product_name\",\n",
    "    tfidf_kwargs=dict(min_df=5, max_df=0.01),\n",
    "    # use_umap=True,\n",
    "    # tsne_kwargs=dict(n_neighbors=10, min_dist=1, spread=10, n_epochs=10000),\n",
    "    # force_compute=True,\n",
    "    # nb_samples=20000,\n",
    ")\n"
   ]
  },
  {
   "cell_type": "code",
   "execution_count": null,
   "id": "ea18e58a",
   "metadata": {},
   "outputs": [],
   "source": [
    "plot = plot_tsne(\n",
    "    g.data,\n",
    "    \"product_name\",\n",
    "    group_cat=\"pnns_groups_1\",\n",
    "    tooltip_var=[\"product_name\", \"nutrition_grade_fr\"],\n",
    "    interactive_plot=False,\n",
    ")\n"
   ]
  },
  {
   "cell_type": "code",
   "execution_count": null,
   "id": "d8756141",
   "metadata": {},
   "outputs": [],
   "source": [
    "feature_summary(g.data)\n"
   ]
  },
  {
   "attachments": {},
   "cell_type": "markdown",
   "id": "6169188a",
   "metadata": {},
   "source": [
    "## Exploration des noms de marques"
   ]
  },
  {
   "cell_type": "code",
   "execution_count": null,
   "id": "73c51d29",
   "metadata": {},
   "outputs": [],
   "source": [
    "g.data[\"brands\"].sample(10)\n"
   ]
  },
  {
   "cell_type": "code",
   "execution_count": null,
   "id": "1afff5ff",
   "metadata": {},
   "outputs": [],
   "source": [
    "df = (\n",
    "    g.data[\"brands\"].str.split(\",\").explode().apply(normalize_str).fillna(\"NA\").unique()\n",
    ")\n",
    "df.shape\n"
   ]
  },
  {
   "attachments": {},
   "cell_type": "markdown",
   "id": "3b9d2abd",
   "metadata": {},
   "source": [
    "### Embeddings des noms de marques"
   ]
  },
  {
   "cell_type": "code",
   "execution_count": null,
   "id": "f26d84cd",
   "metadata": {},
   "outputs": [],
   "source": [
    "text_feature_to_2d_coord(\n",
    "    g.data,\n",
    "    \"brands\",\n",
    "    tfidf_kwargs=dict(min_df=2, max_df=0.3),\n",
    "    # use_umap=True,\n",
    "    # tsne_kwargs=dict(n_neighbors=5, min_dist=1, spread=2),\n",
    "    # force_compute=True,\n",
    "    # nb_samples=1000,\n",
    ")\n",
    "plot = plot_tsne(\n",
    "    g.data,\n",
    "    \"brands\",\n",
    "    group_cat=\"pnns_groups_1\",\n",
    "    tooltip_var=[\"product_name\", \"nutrition_grade_fr\", \"brands\"],\n",
    "    interactive_plot=False,\n",
    ")\n"
   ]
  },
  {
   "attachments": {},
   "cell_type": "markdown",
   "id": "665f2189",
   "metadata": {},
   "source": [
    "## Exploration des textes d'ingredients et des additifs"
   ]
  },
  {
   "cell_type": "code",
   "execution_count": null,
   "id": "a8ed46f4",
   "metadata": {},
   "outputs": [],
   "source": [
    "g.data[[\"ingredients_text\", \"additives\", \"additives_n\"]]\n"
   ]
  },
  {
   "cell_type": "code",
   "execution_count": null,
   "id": "4543defe",
   "metadata": {},
   "outputs": [],
   "source": [
    "df = g.data[\"ingredients_text\"].dropna().apply(lambda s: normalize_str(s))\n",
    "df = df.sample(2000)\n",
    "df.sample(10)\n"
   ]
  },
  {
   "cell_type": "code",
   "execution_count": null,
   "id": "3f05a169",
   "metadata": {},
   "outputs": [],
   "source": [
    "text_feature_to_2d_coord(\n",
    "    g.data,\n",
    "    \"ingredients_text\",\n",
    "    tfidf_kwargs=dict(min_df=10, max_df=1.0),\n",
    "    use_umap=True,\n",
    "    tsne_kwargs=dict(min_dist=4, spread=4),\n",
    "    # force_compute=True,\n",
    "    # nb_samples=10000,\n",
    ")\n",
    "plot = plot_tsne(\n",
    "    g.data,\n",
    "    \"ingredients_text\",\n",
    "    group_cat=\"pnns_groups_1\",\n",
    "    interactive_plot=False,\n",
    "    tooltip_var=[\"product_name\", \"nutrition_grade_fr\", \"ingredients_text\"],\n",
    ")\n"
   ]
  },
  {
   "attachments": {},
   "cell_type": "markdown",
   "id": "37902b0f",
   "metadata": {},
   "source": [
    "Il est intéressant de voir que l'embedding (avec réduction de dimentionnalité) du texte des ingrédint permet de dégager des régions selon la catégorie de produits. Le recouvrement des points ne permet pas de dire exactement à quelle catégorie appartient un produit mais il est au moins possible d'identifier des catégories problbles auquelles appartient un produit. Nous pouvons donc affirmer que l'embedding \"réduit\" de texte des ingrédient contient encore de l'information pour caractériser les produits. "
   ]
  },
  {
   "cell_type": "code",
   "execution_count": null,
   "id": "b88b99bf",
   "metadata": {},
   "outputs": [],
   "source": [
    "import re\n",
    "\n",
    "regexp_finish_by_numbers = re.compile(\".*-\\d+\")\n",
    "regexp_number_only = re.compile(\"[a-z]+:\\d+\")\n",
    "\n",
    "\n",
    "def clean_additives(raw_additives):\n",
    "    if pd.isnull(raw_additives):\n",
    "        return np.nan, np.nan, np.nan\n",
    "    raw_additives = str(raw_additives)\n",
    "    ingredients = raw_additives[3:-4].split(\"  ]  [ \")\n",
    "    ingredients = list(\n",
    "        filter(\n",
    "            lambda s: not regexp_finish_by_numbers.match(s) or \"-> exists\" in s,\n",
    "            ingredients,\n",
    "        )\n",
    "    )\n",
    "    ingredients = [ing for ing in ingredients if ing != \"en:fd-c\"]\n",
    "    additives = [s.split(\"->\")[1].strip() for s in ingredients if \"-> exists\" in s]\n",
    "    ingredients = [ing[ing.find(\" -> \") + 4 :] for ing in ingredients]\n",
    "    ingredients = list(\n",
    "        filter(\n",
    "            lambda s: not any(s in ing and s != ing for ing in ingredients), ingredients\n",
    "        )\n",
    "    )\n",
    "    ingredients = list(filter(lambda s: not regexp_number_only.match(s), ingredients))\n",
    "    return len(ingredients), ingredients, additives\n",
    "\n",
    "\n",
    "g.data[\"additives_old\"] = g.data[\"additives\"]\n",
    "results = g.data[\"additives_old\"].map(clean_additives)\n",
    "g.data[\"ingredients_n\"] = results.map(lambda r: r[0])\n",
    "g.data[\"ingredients\"] = results.map(lambda r: r[1])\n",
    "g.data[\"additives\"] = results.map(lambda r: r[2])\n",
    "g.data = g.data.drop(columns=[\"additives_old\"])\n",
    "\n",
    "g.data[[\"ingredients_n\", \"additives\"]].sample(10)\n"
   ]
  },
  {
   "attachments": {},
   "cell_type": "markdown",
   "id": "999e9db6-bed3-4d15-9c09-e9b12bd45bbc",
   "metadata": {
    "tags": []
   },
   "source": [
    "# Exploration des quantités de sel et sodium"
   ]
  },
  {
   "cell_type": "code",
   "execution_count": null,
   "id": "26f6ccac-aa1f-42f5-8cdd-f8fa0cf6e86e",
   "metadata": {
    "tags": []
   },
   "outputs": [],
   "source": [
    "g.data[[\"salt_100g\", \"sodium_100g\"]].sample(10)\n"
   ]
  },
  {
   "attachments": {},
   "cell_type": "markdown",
   "id": "d0ddd706",
   "metadata": {},
   "source": [
    "Les quantités de sel et de sodium suivent les même tendances. Regardons leur matrice de corrélations."
   ]
  },
  {
   "cell_type": "code",
   "execution_count": null,
   "id": "d1552343",
   "metadata": {},
   "outputs": [],
   "source": [
    "g.data[[\"salt_100g\", \"sodium_100g\"]].corr()\n"
   ]
  },
  {
   "attachments": {},
   "cell_type": "markdown",
   "id": "e714bd0f",
   "metadata": {},
   "source": [
    "En effet, les deux variables sont complétements corrélées. Étudions leur rapport."
   ]
  },
  {
   "cell_type": "code",
   "execution_count": null,
   "id": "1908c117-51cc-4a2e-abbb-5369e98dd7b2",
   "metadata": {
    "tags": []
   },
   "outputs": [],
   "source": [
    "(g.data[\"salt_100g\"] / g.data[\"sodium_100g\"]).sample(10)\n"
   ]
  },
  {
   "attachments": {},
   "cell_type": "markdown",
   "id": "58e542c3",
   "metadata": {},
   "source": [
    "Les deux variables sont liés par un rapport de 2,54. Il n'est donc pas utile de garder les deux variables. \n",
    "Nous décidons de garder \"sodium_100g\" car elle est celle utilisée pour le calcul du Nutri-Score [0].\n",
    "\n",
    "[0] https://www.santepubliquefrance.fr/media/files/02-determinants-de-sante/nutrition-et-activite-physique/nutri-score/qr-scientifique-technique"
   ]
  },
  {
   "cell_type": "code",
   "execution_count": null,
   "id": "a333d674-e5c9-4a01-943b-b0788d5c3856",
   "metadata": {
    "tags": []
   },
   "outputs": [],
   "source": [
    "g.data = drop_features(g.data, \"salt_100g\")\n"
   ]
  },
  {
   "attachments": {},
   "cell_type": "markdown",
   "id": "acd91bc5-7518-42db-a6ee-93852b48c493",
   "metadata": {},
   "source": [
    "# Exploration des variables nutriments"
   ]
  },
  {
   "cell_type": "code",
   "execution_count": null,
   "id": "937b4a60-4e84-4ec1-9584-16afc72114f0",
   "metadata": {
    "tags": []
   },
   "outputs": [],
   "source": [
    "nutriments = [\n",
    "    \"fat_100g\",\n",
    "    \"saturated-fat_100g\",\n",
    "    \"carbohydrates_100g\",\n",
    "    \"sugars_100g\",\n",
    "    \"fiber_100g\",\n",
    "    \"proteins_100g\",\n",
    "    \"sodium_100g\",\n",
    "]\n",
    "main_nutriments = [\n",
    "    \"fat_100g\",\n",
    "    \"carbohydrates_100g\",\n",
    "    \"fiber_100g\",\n",
    "    \"proteins_100g\",\n",
    "    \"sodium_100g\",\n",
    "]\n",
    "\n",
    "g.data[nutriments].sample(10)\n"
   ]
  },
  {
   "cell_type": "code",
   "execution_count": null,
   "id": "6dae707e",
   "metadata": {},
   "outputs": [],
   "source": [
    "feature_summary(g.data[nutriments])\n"
   ]
  },
  {
   "attachments": {},
   "cell_type": "markdown",
   "id": "3ab6665f",
   "metadata": {},
   "source": [
    "Remplissage des quantités de nutriments manquantes. Si quelques variables de quantité de nutriments sont remplies pour un produit, on fait l'hypothèse que les quantités non-remplies sont égales à zéro, pour ce même produit."
   ]
  },
  {
   "cell_type": "code",
   "execution_count": null,
   "id": "4b40f0b3-6e60-4a3b-883b-1c6d41dfa8a9",
   "metadata": {
    "tags": []
   },
   "outputs": [],
   "source": [
    "mask_nutriment_nulls = g.data[nutriments].isnull().to_numpy()\n",
    "mask_nutriment_all_nulls = mask_nutriment_nulls.all(axis=1)\n",
    "g.data.fillna({c: 0 for c in nutriments}, inplace=True)\n",
    "\n",
    "g.data.loc[mask_nutriment_all_nulls, nutriments] = np.nan\n"
   ]
  },
  {
   "cell_type": "code",
   "execution_count": null,
   "id": "496b481d",
   "metadata": {},
   "outputs": [],
   "source": [
    "feature_summary(g.data[nutriments])\n"
   ]
  },
  {
   "cell_type": "code",
   "execution_count": null,
   "id": "ec02da1e",
   "metadata": {},
   "outputs": [],
   "source": [
    "g.data[nutriments].sample(10)\n"
   ]
  },
  {
   "attachments": {},
   "cell_type": "markdown",
   "id": "7c1d0725",
   "metadata": {},
   "source": [
    "Quelques produits présentes des valeurs aberrantes avec des quantités de graisses inférieures aux quantités de graisses saturées, alors que les quantités de graisses saturées sont en toute logique incluses dans les quantitées de graisses. La même logique s'applique pour les glucides avec les sucres.\n",
    "Nous allons donc corriger ces valeurs aberrantes, en considérant que les couples de valeurs sont égales."
   ]
  },
  {
   "cell_type": "code",
   "execution_count": null,
   "id": "7fdfa180-989e-4aad-9d6c-2320ad4fef28",
   "metadata": {
    "tags": []
   },
   "outputs": [],
   "source": [
    "def assign_value_sub(data, main, sub):\n",
    "    mask = (data[sub] > data[main]) & ~(data[main].isnull())\n",
    "    print(f'Nb products with \"{sub}\" > \"{main}\": {mask.sum()}')\n",
    "    data.loc[mask, main] = data[mask][sub]\n",
    "\n",
    "\n",
    "assign_value_sub(g.data, main=\"fat_100g\", sub=\"saturated-fat_100g\")\n",
    "assign_value_sub(g.data, main=\"carbohydrates_100g\", sub=\"sugars_100g\")\n",
    "g.data[nutriments]\n"
   ]
  },
  {
   "attachments": {},
   "cell_type": "markdown",
   "id": "3c3632fe",
   "metadata": {},
   "source": [
    "Regardons la distribution des variables nutritionnelles."
   ]
  },
  {
   "cell_type": "code",
   "execution_count": null,
   "id": "5a775828-e5e3-4af0-bef2-9e119e1dac46",
   "metadata": {
    "scrolled": true,
    "tags": []
   },
   "outputs": [],
   "source": [
    "fig, axes = plt.subplots(nrows=2, ncols=4, figsize=(25, 12))\n",
    "\n",
    "df = g.data[[\"product_name\"] + nutriments].copy()\n",
    "\n",
    "df[\"total_100g\"] = df[\n",
    "    [\"fat_100g\", \"carbohydrates_100g\", \"fiber_100g\", \"proteins_100g\", \"sodium_100g\"]\n",
    "].sum(axis=1)\n",
    "\n",
    "axex = np.array(axes)\n",
    "for col, ax in zip(nutriments + [\"total_100g\"], axes.flat):\n",
    "    ax.set_title(col)\n",
    "    bins = np.linspace(df[col].min(), df[col].max(), 100)\n",
    "    df[col].plot.hist(bins=bins, ax=ax)\n",
    "    df[col][(df[col] < 0) | (df[col] > 100)].plot.hist(bins=bins, ax=ax, color=\"red\")\n",
    "    ax.set_yscale(\"log\")\n",
    "    ax.set_xlabel(\"Quantité (g ou ml)\")\n"
   ]
  },
  {
   "attachments": {},
   "cell_type": "markdown",
   "id": "0a03ce6b",
   "metadata": {},
   "source": [
    "Nous remarquons que certains produits présentes des valeurs aberrantes avec des quantitées, normalisées à 100g, suppérieures à 100. Ainsi qu'une proportion non néglégeable de produits qui présentent une somme total de quantités supérieure à 100g."
   ]
  },
  {
   "cell_type": "code",
   "execution_count": null,
   "id": "4c9b262d-f3ca-4e57-8f19-265afff374b4",
   "metadata": {
    "tags": []
   },
   "outputs": [],
   "source": [
    "mask = df[\"total_100g\"] > 100\n",
    "df[mask]\n"
   ]
  },
  {
   "attachments": {},
   "cell_type": "markdown",
   "id": "a23fc8eb",
   "metadata": {},
   "source": [
    "Pour ces produits dont la somme des quantités est supérieures à 100g, nous avons décidé mettre chacune de leur quantité de nutriments à nul, comme valeurs manquantes, pour faire du remplissage plus tard. "
   ]
  },
  {
   "cell_type": "code",
   "execution_count": null,
   "id": "105f7bfd-69e8-4ca7-8b4b-83f8c7d51ff1",
   "metadata": {
    "tags": []
   },
   "outputs": [],
   "source": [
    "for nut in nutriments:\n",
    "    mask = (g.data[nut] < 0) | (g.data[nut] > 100)\n",
    "    g.data.loc[mask, nut] = pd.NA\n",
    "\n",
    "mask = df[\"total_100g\"] > 100\n",
    "g.data.loc[mask, main_nutriments] = pd.NA\n"
   ]
  },
  {
   "attachments": {},
   "cell_type": "markdown",
   "id": "e1b27d95-7fc6-443a-a201-9ae54844425d",
   "metadata": {},
   "source": [
    "# Exploration de l'énergie (kJ/100g)"
   ]
  },
  {
   "cell_type": "code",
   "execution_count": null,
   "id": "2c22ef88-e2fc-44e7-b543-5fe56e1eb98e",
   "metadata": {
    "tags": []
   },
   "outputs": [],
   "source": [
    "df = g.data[\"energy_100g\"]\n",
    "df.describe()\n"
   ]
  },
  {
   "attachments": {},
   "cell_type": "markdown",
   "id": "25f99914",
   "metadata": {},
   "source": [
    "Pour un produit, l'énergie maximale est estimée à un peu moins de 4000 KJ/100g, en considérant que ce produit est constitué uniquement de graisses."
   ]
  },
  {
   "cell_type": "code",
   "execution_count": null,
   "id": "d1473d14",
   "metadata": {},
   "outputs": [],
   "source": [
    "g.data[[\"product_name\", \"energy_100g\"]].sort_values(by=\"energy_100g\", ascending=False)[\n",
    "    0:10\n",
    "]\n"
   ]
  },
  {
   "cell_type": "code",
   "execution_count": null,
   "id": "1d4add4c-7aec-40af-91b8-d7fc61c497b2",
   "metadata": {
    "tags": []
   },
   "outputs": [],
   "source": [
    "energy_max = 4000\n",
    "mask = df < energy_max\n",
    "print(f\"Nb de produits avec 'energy_100g' > 4000 kJ/100g : {mask.sum()}\")\n",
    "bins = np.linspace(df.min(), 10000, 200)\n",
    "df[df < 10e3].plot.hist(bins=bins)\n",
    "df[df > energy_max].plot.hist(bins=bins, color=\"red\")\n",
    "plt.yscale(\"log\")\n",
    "plt.xlabel(\"Energie (kJ/100g)\")\n",
    "_ = plt.ylabel(\"Nb produits (/bin)\")\n"
   ]
  },
  {
   "attachments": {},
   "cell_type": "markdown",
   "id": "21547f29",
   "metadata": {},
   "source": [
    "Nous remplaçons ces valeurs aberrantes par des valeurs nulles."
   ]
  },
  {
   "cell_type": "code",
   "execution_count": null,
   "id": "bec578d2-5fcb-4bef-b2f3-358adaeea685",
   "metadata": {
    "tags": []
   },
   "outputs": [],
   "source": [
    "g.data.loc[~mask, \"energy_100g\"] = np.nan\n"
   ]
  },
  {
   "attachments": {},
   "cell_type": "markdown",
   "id": "797216e6",
   "metadata": {},
   "source": [
    "Nous pouvons estimer l'énergie colorique d'un produit à partir de ces quantités de nutriments, selon [0] & [1].\n",
    "\n",
    "- [0] https://fr.wikipedia.org/wiki/Valeur_%C3%A9nerg%C3%A9tique\n",
    "- [1] p.11, https://www.santepubliquefrance.fr/determinants-de-sante/nutrition-et-activite-physique/articles/nutri-score/documents/rapport-2022-sur-les-modifications-de-l-algorithme-de-calcul-pour-les-aliments-solides-proposees-par-le-comite-scientifique-du-nutri-score"
   ]
  },
  {
   "cell_type": "code",
   "execution_count": null,
   "id": "1bcec4b8",
   "metadata": {},
   "outputs": [],
   "source": [
    "def compute_energy(data):\n",
    "    energy = {  # kJ/g\n",
    "        \"fat\": 37,\n",
    "        # \"ethanol\": 29,\n",
    "        \"proteins\": 17,\n",
    "        \"carbohydrates\": 17,\n",
    "        \"fiber\": 8,\n",
    "        \"sodium\": 0,\n",
    "    }\n",
    "    return pd.DataFrame(\n",
    "        {comp: data[f\"{comp}_100g\"] * ener for comp, ener in energy.items()}\n",
    "    ).sum(axis=1, skipna=False)\n",
    "\n",
    "\n",
    "df = pd.DataFrame(\n",
    "    {\"computed_energy\": compute_energy(g.data), \"energy\": g.data[\"energy_100g\"]}\n",
    ")\n"
   ]
  },
  {
   "cell_type": "code",
   "execution_count": null,
   "id": "8f529d28",
   "metadata": {},
   "outputs": [],
   "source": [
    "((df[\"computed_energy\"] - df[\"energy\"]) / df[\"computed_energy\"]).plot.hist(\n",
    "    bins=np.linspace(-1, 1, 100)\n",
    ")\n",
    "plt.xlabel(\"Différence (%)\")\n",
    "_ = plt.ylabel(\"Nombre de produits/bin\")\n"
   ]
  },
  {
   "cell_type": "code",
   "execution_count": null,
   "id": "e68d3de0",
   "metadata": {},
   "outputs": [],
   "source": [
    "_ = df[\"computed_energy\"].plot.hist(bins=100)\n",
    "plt.ylabel(\"Nb de produits (/bin)\")\n",
    "_ = plt.xlabel(\"Énergie calculée\")\n"
   ]
  },
  {
   "cell_type": "code",
   "execution_count": null,
   "id": "432f93f6",
   "metadata": {},
   "outputs": [],
   "source": [
    "null_energy = g.data[\"energy_100g\"].isnull()\n",
    "g.data.loc[null_energy, \"energy_100g\"] = compute_energy(g.data[null_energy])\n"
   ]
  },
  {
   "attachments": {},
   "cell_type": "markdown",
   "id": "21e908b5",
   "metadata": {},
   "source": [
    "On élimine les produits où le nutriscore n'est pas présent, puisque l'on veut constituer un dataset pour faire un entrainement supervisé de notre algorithme de prédiction de nutriscore."
   ]
  },
  {
   "cell_type": "code",
   "execution_count": null,
   "id": "59c5b9bf",
   "metadata": {},
   "outputs": [],
   "source": [
    "plt.figure(figsize=(14, 12))\n",
    "col_order = [\n",
    "    \"product_name\",\n",
    "    \"brands\",\n",
    "    \"pnns_groups_1\",\n",
    "    \"pnns_groups_2\",\n",
    "    \"main_category_fr\",\n",
    "    \"categories_fr\",\n",
    "    \"ingredients_text\",\n",
    "    \"ingredients_from_palm_oil_n\",\n",
    "    \"ingredients_that_may_be_from_palm_oil_n\",\n",
    "    \"additives_n\",\n",
    "    # \"additives\",\n",
    "    \"carbohydrates_100g\",\n",
    "    \"fat_100g\",\n",
    "    \"proteins_100g\",\n",
    "    \"sodium_100g\",\n",
    "    \"fiber_100g\",\n",
    "    \"sugars_100g\",\n",
    "    \"saturated-fat_100g\",\n",
    "    \"energy_100g\",\n",
    "]\n",
    "mat_corr = g.data[col_order].isnull().corr()\n",
    "\n",
    "mask = np.zeros_like(mat_corr)\n",
    "mask[np.triu_indices(mat_corr.shape[0])] = True\n",
    "_ = sns.heatmap(\n",
    "    mat_corr,\n",
    "    annot=True,\n",
    "    fmt=\".0%\",\n",
    "    cmap=\"RdBu_r\",\n",
    "    vmin=-1,\n",
    "    vmax=1,\n",
    "    annot_kws={\"fontsize\": 9},\n",
    "    linewidths=0.5,\n",
    "    linecolor=\"gray\",\n",
    ")\n",
    "sns.despine(\n",
    "    fig=None,\n",
    "    ax=None,\n",
    "    top=False,\n",
    "    right=False,\n",
    "    left=False,\n",
    "    bottom=False,\n",
    "    offset=None,\n",
    "    trim=False,\n",
    ")\n",
    "plt.show()\n"
   ]
  },
  {
   "attachments": {},
   "cell_type": "markdown",
   "id": "87591a4d",
   "metadata": {},
   "source": [
    "# Remplissage final des valeurs manquantes"
   ]
  },
  {
   "cell_type": "code",
   "execution_count": null,
   "id": "5d73a597",
   "metadata": {},
   "outputs": [],
   "source": [
    "new_variable_order = [\n",
    "    \"code\",\n",
    "    \"created_t\",\n",
    "    \"product_name\",\n",
    "    \"product_name_emb_x\",\n",
    "    \"product_name_emb_y\",\n",
    "    \"brands\",\n",
    "    \"brands_emb_x\",\n",
    "    \"brands_emb_y\",\n",
    "    \"main_category_fr\",\n",
    "    \"main_category_fr_emb_x\",\n",
    "    \"main_category_fr_emb_y\",\n",
    "    \"categories_fr\",\n",
    "    \"categories_fr_emb_x\",\n",
    "    \"categories_fr_emb_y\",\n",
    "    \"pnns_groups_1\",\n",
    "    \"pnns_groups_2\",\n",
    "    \"ingredients_text\",\n",
    "    \"ingredients_text_emb_x\",\n",
    "    \"ingredients_text_emb_y\",\n",
    "    \"ingredients\",\n",
    "    \"ingredients_n\",\n",
    "    \"additives\",\n",
    "    \"additives_n\",\n",
    "    \"ingredients_from_palm_oil_n\",\n",
    "    \"ingredients_that_may_be_from_palm_oil_n\",\n",
    "    \"energy_100g\",\n",
    "    \"fat_100g\",\n",
    "    \"saturated-fat_100g\",\n",
    "    \"carbohydrates_100g\",\n",
    "    \"sugars_100g\",\n",
    "    \"fiber_100g\",\n",
    "    \"proteins_100g\",\n",
    "    \"sodium_100g\",\n",
    "    \"nutrition-score-fr_100g\",\n",
    "    \"nutrition_grade_fr\",\n",
    "]\n",
    "\n",
    "assert len(new_variable_order) == len(g.data.columns)\n",
    "\n",
    "g.data = g.data[new_variable_order]\n",
    "\n",
    "feature_summary(g.data)\n"
   ]
  },
  {
   "cell_type": "code",
   "execution_count": null,
   "id": "b37642c7",
   "metadata": {},
   "outputs": [],
   "source": [
    "import numpy as np\n",
    "from sklearn.experimental import enable_iterative_imputer\n",
    "from sklearn.impute import IterativeImputer, KNNImputer\n",
    "from sklearn.preprocessing import OneHotEncoder, OrdinalEncoder\n"
   ]
  },
  {
   "cell_type": "code",
   "execution_count": null,
   "id": "66ebc0fa",
   "metadata": {},
   "outputs": [],
   "source": [
    "numerical_features = list(g.data.select_dtypes(include=np.number).columns)\n",
    "for f in [\"nutrition-score-fr_100g\"]:\n",
    "    numerical_features.remove(f)\n",
    "numerical_features\n"
   ]
  },
  {
   "cell_type": "code",
   "execution_count": null,
   "id": "b07258ae",
   "metadata": {},
   "outputs": [],
   "source": [
    "pnns_transformer = OrdinalEncoder()\n",
    "# pnns_transformer = OneHotEncoder(sparse_output=False)\n",
    "X_pnns = pnns_transformer.fit_transform(g.data[[\"pnns_groups_1\", \"pnns_groups_2\"]])\n",
    "X_numerical = g.data[numerical_features].to_numpy()\n",
    "X = np.concatenate([X_pnns, X_numerical], axis=1)\n",
    "\n",
    "X_pnns.shape, X_numerical.shape, X.shape\n"
   ]
  },
  {
   "cell_type": "code",
   "execution_count": null,
   "id": "194c083e",
   "metadata": {},
   "outputs": [],
   "source": [
    "imputer = KNNImputer(n_neighbors=5)\n",
    "\n",
    "res = imputer.fit_transform(X)\n",
    "res.shape\n"
   ]
  },
  {
   "cell_type": "code",
   "execution_count": null,
   "id": "febf27f6",
   "metadata": {},
   "outputs": [],
   "source": [
    "id_pnns = X_pnns.shape[1]\n",
    "g.data.loc[:, [\"pnns_groups_1\", \"pnns_groups_2\"]] = pnns_transformer.inverse_transform(\n",
    "    res[:, :id_pnns]\n",
    ")\n",
    "g.data[\"pnns_groups_1\"] = g.data[\"pnns_groups_1\"].astype(\"category\")\n",
    "g.data[\"pnns_groups_2\"] = g.data[\"pnns_groups_2\"].astype(\"category\")\n",
    "g.data.loc[:, numerical_features] = res[:, id_pnns:]\n"
   ]
  },
  {
   "attachments": {},
   "cell_type": "markdown",
   "id": "71650e05-638d-4276-9539-37d31f5e553f",
   "metadata": {},
   "source": [
    "# Nettoyage des produits en doublon"
   ]
  },
  {
   "cell_type": "code",
   "execution_count": null,
   "id": "68025078",
   "metadata": {},
   "outputs": [],
   "source": [
    "g.data.shape\n"
   ]
  },
  {
   "cell_type": "code",
   "execution_count": null,
   "id": "67fa2199-8bac-4f8b-a014-18c65e527b8f",
   "metadata": {
    "tags": []
   },
   "outputs": [],
   "source": [
    "g.data[\"created_t\"] = g.data[\"created_t\"].astype(\"int64\")\n",
    "\n",
    "mask_dup = g.data.sort_values(\"created_t\", ascending=True).duplicated(\n",
    "    [\"product_name\", \"brands\"], keep=\"last\"\n",
    ")\n",
    "print(mask_dup.size, g.data.shape)\n",
    "mask_dup = mask_dup.sort_index()\n",
    "g.data = g.data[~mask_dup]\n"
   ]
  },
  {
   "cell_type": "code",
   "execution_count": null,
   "id": "66566c7e",
   "metadata": {},
   "outputs": [],
   "source": [
    "g.data.shape\n"
   ]
  },
  {
   "attachments": {},
   "cell_type": "markdown",
   "id": "2e280028-a69d-4d36-8feb-d069b0c33e69",
   "metadata": {},
   "source": [
    "# Sauvegarde des données nettoyées"
   ]
  },
  {
   "cell_type": "code",
   "execution_count": null,
   "id": "5c534489",
   "metadata": {},
   "outputs": [],
   "source": [
    "g.data.shape\n"
   ]
  },
  {
   "cell_type": "code",
   "execution_count": null,
   "id": "6ebbe540-2523-4441-9ccc-9ecfe1a84ff9",
   "metadata": {},
   "outputs": [],
   "source": [
    "feature_summary(g.data)\n"
   ]
  },
  {
   "cell_type": "code",
   "execution_count": null,
   "id": "0c904104-ba5d-4228-9b5b-dd608ed88531",
   "metadata": {},
   "outputs": [],
   "source": [
    "g.data.to_pickle(\"clean_data.pkl\")\n"
   ]
  },
  {
   "cell_type": "code",
   "execution_count": null,
   "id": "2c3f9b10",
   "metadata": {},
   "outputs": [],
   "source": []
  }
 ],
 "metadata": {
  "kernelspec": {
   "display_name": "Python 3 (ipykernel)",
   "language": "python",
   "name": "python3"
  },
  "language_info": {
   "codemirror_mode": {
    "name": "ipython",
    "version": 3
   },
   "file_extension": ".py",
   "mimetype": "text/x-python",
   "name": "python",
   "nbconvert_exporter": "python",
   "pygments_lexer": "ipython3",
   "version": "3.10.10"
  },
  "presto": {
   "id": "a2ffd447-1932-4087-9c28-0539e13c2f33"
  },
  "toc-autonumbering": false,
  "toc-showcode": false,
  "toc-showmarkdowntxt": false,
  "toc-showtags": false
 },
 "nbformat": 4,
 "nbformat_minor": 5
}
