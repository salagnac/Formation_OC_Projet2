{
 "cells": [
  {
   "attachments": {},
   "cell_type": "markdown",
   "metadata": {},
   "source": [
    "# Import and Functions"
   ]
  },
  {
   "cell_type": "code",
   "execution_count": null,
   "metadata": {},
   "outputs": [],
   "source": [
    "from dataclasses import dataclass\n",
    "import typing\n",
    "from pathlib import Path\n",
    "\n",
    "import pandas as pd\n",
    "import numpy as np\n",
    "\n",
    "import sklearn as sk\n",
    "from sklearn.manifold import TSNE\n",
    "from sklearn.preprocessing import OneHotEncoder\n",
    "from sklearn.compose import ColumnTransformer\n",
    "from sklearn.pipeline import Pipeline\n",
    "\n",
    "from matplotlib import pyplot as plt\n",
    "import seaborn as sns\n",
    "\n",
    "import bokeh, bokeh.io\n",
    "\n",
    "bokeh.io.output_notebook()\n"
   ]
  },
  {
   "cell_type": "code",
   "execution_count": null,
   "metadata": {},
   "outputs": [],
   "source": [
    "def feature_summary(data):\n",
    "    col_names = list(data.columns)\n",
    "    dtypes = [data[col].dtype.name for col in data]\n",
    "    types = [type(data[col].iloc[0]).__name__ for col in data]\n",
    "    nb_unique_val = [\n",
    "        len(data[col].unique())\n",
    "        if isinstance(data[col].iloc[0], typing.Hashable)\n",
    "        else np.nan\n",
    "        for col in data\n",
    "    ]\n",
    "    ratio_null = [data[col].isnull().sum() / data[col].shape[0] * 100 for col in data]\n",
    "\n",
    "    table = pd.DataFrame(\n",
    "        {\n",
    "            \"columns\": col_names,\n",
    "            \"DType\": dtypes,\n",
    "            \"Type\": types,\n",
    "            \"Nb unique values\": nb_unique_val,\n",
    "            \"% null\": ratio_null,\n",
    "        }\n",
    "    ).set_index(\"columns\")\n",
    "    table = table.style.background_gradient(\n",
    "        axis=None, vmin=0, vmax=np.max(ratio_null), cmap=\"Reds\", subset=[\"% null\"]\n",
    "    )\n",
    "    return table\n",
    "\n",
    "\n",
    "def nutriscore_grade(score):\n",
    "    grade = np.full_like(score, fill_value=np.nan, dtype=\"object\")\n",
    "    mask_nan = ~np.isnan(score)\n",
    "    indices = np.argmin(\n",
    "        np.array(score[mask_nan])[:, np.newaxis]\n",
    "        > np.array([-1, 4, 12, 17, 40, 1000])[np.newaxis, :],\n",
    "        axis=1,\n",
    "    )\n",
    "    grade[mask_nan] = np.array(list(\"ABCDE\"))[indices]\n",
    "    return grade\n",
    "\n",
    "\n",
    "def flatten(arr):\n",
    "    for item in arr:\n",
    "        if isinstance(\n",
    "            item,\n",
    "            (\n",
    "                list,\n",
    "                tuple,\n",
    "                np.ndarray,\n",
    "            ),\n",
    "        ):\n",
    "            yield from flatten(item)\n",
    "        else:\n",
    "            yield item\n"
   ]
  },
  {
   "attachments": {},
   "cell_type": "markdown",
   "metadata": {},
   "source": [
    "# Configuration des figures"
   ]
  },
  {
   "cell_type": "code",
   "execution_count": null,
   "metadata": {},
   "outputs": [],
   "source": [
    "import matplotlib\n",
    "\n",
    "matplotlib.rcdefaults()\n",
    "matplotlib.rc(\n",
    "    \"axes\",\n",
    "    labelsize=\"large\",\n",
    "    labelweight=\"bold\",\n",
    "    titlesize=\"xx-large\",\n",
    "    titleweight=\"bold\",\n",
    ")\n"
   ]
  },
  {
   "attachments": {},
   "cell_type": "markdown",
   "metadata": {},
   "source": [
    "# Load Data"
   ]
  },
  {
   "cell_type": "code",
   "execution_count": null,
   "metadata": {},
   "outputs": [],
   "source": [
    "@dataclass\n",
    "class GlobalState:\n",
    "    data: pd.DataFrame\n",
    "\n",
    "\n",
    "g = GlobalState(data=pd.read_pickle(\"clean_data.pkl\"))\n",
    "\n",
    "\n",
    "g.data.sample(10).T\n"
   ]
  },
  {
   "attachments": {},
   "cell_type": "markdown",
   "metadata": {},
   "source": [
    "# Nutriscore"
   ]
  },
  {
   "cell_type": "code",
   "execution_count": null,
   "metadata": {},
   "outputs": [],
   "source": [
    "nutriscore_colors = [\n",
    "    \"#0a8e45\",\n",
    "    \"#7ac547\",\n",
    "    \"#ffc734\",\n",
    "    \"#ff7d24\",\n",
    "    \"#ff421a\",\n",
    "    \"#7b7c80\",\n",
    "]  # A -> E -> Nan\n",
    "palette_nutriscore = sns.color_palette(nutriscore_colors)\n",
    "palette_nutriscore\n"
   ]
  },
  {
   "cell_type": "code",
   "execution_count": null,
   "metadata": {},
   "outputs": [],
   "source": [
    "g.data[\"nutrition_grade_fr\"].cat.categories\n"
   ]
  },
  {
   "cell_type": "code",
   "execution_count": null,
   "metadata": {},
   "outputs": [],
   "source": [
    "g.data[\"nutrition_grade_fr_\"] = (\n",
    "    g.data[\"nutrition_grade_fr\"].cat.add_categories(\"NaN\").fillna(\"NaN\")\n",
    ")\n"
   ]
  },
  {
   "cell_type": "code",
   "execution_count": null,
   "metadata": {},
   "outputs": [],
   "source": [
    "g.data[\"nutrition_grade_fr__\"] = g.data[\"nutrition_grade_fr\"].cat.codes\n"
   ]
  },
  {
   "attachments": {},
   "cell_type": "markdown",
   "metadata": {},
   "source": [
    "Regardons la proportion de produits selon la catégorie du Nutri-Score."
   ]
  },
  {
   "cell_type": "code",
   "execution_count": null,
   "metadata": {},
   "outputs": [],
   "source": [
    "g.data[\"nutrition_grade_fr\"].value_counts().sort_index().plot.pie(\n",
    "    colors=palette_nutriscore,\n",
    "    labeldistance=0.8,\n",
    "    labels=[\n",
    "        f\"{k}\\n{v:.1%}\"\n",
    "        for k, v in g.data[\"nutrition_grade_fr\"]\n",
    "        .value_counts(normalize=True)\n",
    "        .sort_index()\n",
    "        .items()\n",
    "    ],\n",
    "    textprops=dict(\n",
    "        color=\"w\", fontsize=11, fontweight=\"bold\", horizontalalignment=\"center\"\n",
    "    ),\n",
    "    wedgeprops=dict(width=0.4),\n",
    ")\n",
    "_ = plt.ylabel(\"\")\n"
   ]
  },
  {
   "attachments": {},
   "cell_type": "markdown",
   "metadata": {},
   "source": [
    "Les catégories sont relativements équilibrés, il n'y a pas de risque de non-représentativité d'une classes si l'on veut faire de la prédiction avec une algorithme de machine learning."
   ]
  },
  {
   "cell_type": "code",
   "execution_count": null,
   "metadata": {},
   "outputs": [],
   "source": [
    "g.data[\"nutrition_grade_fr_\"].value_counts().sort_index().plot.pie(\n",
    "    colors=palette_nutriscore,\n",
    "    labeldistance=0.8,\n",
    "    labels=[\n",
    "        f\"{k}\\n{v:.1%}\"\n",
    "        for k, v in g.data[\"nutrition_grade_fr_\"]\n",
    "        .value_counts(normalize=True)\n",
    "        .sort_index()\n",
    "        .items()\n",
    "    ],\n",
    "    textprops=dict(\n",
    "        color=\"w\", fontsize=11, fontweight=\"bold\", horizontalalignment=\"center\"\n",
    "    ),\n",
    "    wedgeprops=dict(width=0.4),\n",
    ")\n",
    "_ = plt.ylabel(\"\")\n"
   ]
  },
  {
   "cell_type": "code",
   "execution_count": null,
   "metadata": {},
   "outputs": [],
   "source": [
    "g.data[\"nutrition_grade_fr_\"].value_counts().sort_index().plot.pie(\n",
    "    colors=palette_nutriscore,\n",
    "    labeldistance=0.8,\n",
    "    labels=[\n",
    "        f\"{k}\\n{v:.1%}\"\n",
    "        for k, v in g.data[\"nutrition_grade_fr_\"]\n",
    "        .value_counts(normalize=True)\n",
    "        .sort_index()\n",
    "        .items()\n",
    "    ],\n",
    "    textprops=dict(\n",
    "        color=\"w\", fontsize=11, fontweight=\"bold\", horizontalalignment=\"center\"\n",
    "    ),\n",
    "    wedgeprops=dict(width=0.4),\n",
    ")\n",
    "plt.ylabel(\"\")\n"
   ]
  },
  {
   "cell_type": "code",
   "execution_count": null,
   "metadata": {},
   "outputs": [],
   "source": [
    "# g.data[\"nutrition-score-fr_100g\"].plot.hist(bins=np.linspace(-15.5, 35.5, 52))\n",
    "_ = sns.histplot(\n",
    "    data=g.data,\n",
    "    stat=\"count\",\n",
    "    multiple=\"stack\",\n",
    "    x=\"nutrition-score-fr_100g\",\n",
    "    kde=False,\n",
    "    palette=palette_nutriscore[:-1],\n",
    "    hue=\"nutrition_grade_fr\",\n",
    "    element=\"bars\",\n",
    "    legend=True,\n",
    "    bins=np.linspace(-15.5, 35.5, 52),\n",
    ")\n"
   ]
  },
  {
   "cell_type": "code",
   "execution_count": null,
   "metadata": {},
   "outputs": [],
   "source": [
    "mask = (\n",
    "    (g.data[\"pnns_groups_1\"] != \"beverages\")\n",
    "    & (~g.data[\"pnns_groups_1\"].isnull())\n",
    "    & (g.data[\"pnns_groups_1\"] != \"unknown\")\n",
    ")\n",
    "\n",
    "_ = sns.histplot(\n",
    "    data=g.data[mask],\n",
    "    stat=\"count\",\n",
    "    multiple=\"stack\",\n",
    "    x=\"nutrition-score-fr_100g\",\n",
    "    kde=False,\n",
    "    palette=palette_nutriscore[:-1],\n",
    "    hue=\"nutrition_grade_fr\",\n",
    "    element=\"bars\",\n",
    "    legend=True,\n",
    "    bins=np.linspace(-15.5, 35.5, 52),\n",
    ")\n"
   ]
  },
  {
   "attachments": {},
   "cell_type": "markdown",
   "metadata": {},
   "source": [
    "# Nutriments vs Nutriscore"
   ]
  },
  {
   "cell_type": "code",
   "execution_count": null,
   "metadata": {},
   "outputs": [],
   "source": [
    "nutriments = [\n",
    "    f\"{nut}_100g\"\n",
    "    for nut in [\n",
    "        \"energy\",\n",
    "        \"fat\",\n",
    "        \"saturated-fat\",\n",
    "        \"carbohydrates\",\n",
    "        \"sugars\",\n",
    "        \"fiber\",\n",
    "        \"proteins\",\n",
    "        \"sodium\",\n",
    "    ]\n",
    "]\n",
    "fig, axes = plt.subplots(nrows=3, ncols=3, figsize=(25, 10))\n",
    "for feature, ax in zip(nutriments, flatten(axes)):\n",
    "    sns.histplot(\n",
    "        data=g.data,\n",
    "        stat=\"count\",\n",
    "        multiple=\"stack\",\n",
    "        x=feature,\n",
    "        kde=False,\n",
    "        element=\"bars\",\n",
    "        legend=True,\n",
    "        bins=np.linspace(-0.5, 100.5, 102),\n",
    "        ax=ax,\n",
    "    )\n",
    "    # plt.yscale(\"log\")\n"
   ]
  },
  {
   "cell_type": "code",
   "execution_count": null,
   "metadata": {},
   "outputs": [],
   "source": [
    "fig, axes = plt.subplots(nrows=3, ncols=3, figsize=(30, 16))\n",
    "for feature, ax in zip(nutriments, flatten(axes)):\n",
    "    if \"energy\" in feature:\n",
    "        bins = np.linspace(-0.5, 4000.5, 82)\n",
    "        max_x = 4000\n",
    "        max_hist_y = 2500\n",
    "    else:\n",
    "        max_x = g.data[feature].max()\n",
    "        bins = np.linspace(-0.5, max_x, 101)\n",
    "        max_hist_y = 8000\n",
    "    ax_hist = sns.histplot(data=g.data, x=feature, color=\"lightblue\", bins=bins, ax=ax)\n",
    "    ax_kde = sns.kdeplot(\n",
    "        data=g.data,\n",
    "        x=feature,\n",
    "        palette=palette_nutriscore,\n",
    "        hue=\"nutrition_grade_fr_\",\n",
    "        legend=True,\n",
    "        linewidth=3,\n",
    "        ax=ax.axes.twinx(),\n",
    "    )\n",
    "    ax.set_xlim(0, max_x)\n",
    "    ax_hist.set_ylim(0, max_hist_y)\n",
    "    ax_kde.ticklabel_format(axis=\"y\", style=\"sci\", scilimits=(0, 0))\n",
    "fig.subplots_adjust(wspace=0.35, hspace=0.35)\n",
    "# plt.tight_layout()\n"
   ]
  },
  {
   "cell_type": "code",
   "execution_count": null,
   "metadata": {},
   "outputs": [],
   "source": [
    "ax_hist = sns.histplot(\n",
    "    data=g.data, x=\"energy_100g\", color=\"lightblue\", bins=np.linspace(-0.5, 4000.5, 82)\n",
    ")\n",
    "ax_kde = sns.kdeplot(\n",
    "    data=g.data,\n",
    "    x=\"energy_100g\",\n",
    "    palette=palette_nutriscore,\n",
    "    hue=\"nutrition_grade_fr_\",\n",
    "    legend=True,\n",
    "    linewidth=3,\n",
    "    ax=ax_hist.axes.twinx(),\n",
    ")\n",
    "ax_hist.set_xlim(-0.5, 4000.5)\n",
    "ax_hist.set_ylim(0, 2500)\n",
    "ax_kde.set_ylim(0, 3e-4)\n",
    "ax_kde.ticklabel_format(axis=\"y\", style=\"sci\", scilimits=(0, 0))\n"
   ]
  },
  {
   "cell_type": "code",
   "execution_count": null,
   "metadata": {},
   "outputs": [],
   "source": [
    "features_numeric = [\n",
    "    f\n",
    "    for f in g.data.select_dtypes(np.number)\n",
    "    if \"nutri\" not in f and \"emb\" not in f and \"created\" not in f and \"tsne\" not in f\n",
    "]\n",
    "\n",
    "fig, axes = plt.subplots(nrows=3, ncols=4, figsize=(25, 18))\n",
    "for feature, ax in zip(features_numeric, flatten(axes)):\n",
    "    sns.violinplot(\n",
    "        data=g.data,\n",
    "        x=feature,\n",
    "        y=\"nutrition_grade_fr_\",\n",
    "        palette=palette_nutriscore,\n",
    "        cut=0,\n",
    "        scale=\"count\",\n",
    "        linewidth=0.5,\n",
    "        ax=ax,\n",
    "    )\n"
   ]
  },
  {
   "cell_type": "code",
   "execution_count": null,
   "metadata": {},
   "outputs": [],
   "source": [
    "plt.figure(figsize=(6, 6))\n",
    "sns.scatterplot(\n",
    "    data=g.data,\n",
    "    x=\"sugars_100g\",\n",
    "    y=\"nutrition-score-fr_100g\",\n",
    "    hue=\"nutrition_grade_fr_\",\n",
    "    s=3,\n",
    "    alpha=0.2,\n",
    "    palette=palette_nutriscore,\n",
    ")\n",
    "plt.xlim(0, 80)\n",
    "plt.ylim(-20, 40)\n"
   ]
  },
  {
   "attachments": {},
   "cell_type": "markdown",
   "metadata": {},
   "source": [
    "# Categories vs Nutri-Score"
   ]
  },
  {
   "cell_type": "code",
   "execution_count": null,
   "metadata": {},
   "outputs": [],
   "source": [
    "from matplotlib.patches import Patch\n",
    "\n",
    "product_categories = [cat for cat in g.data[\"pnns_groups_1\"].cat.categories]\n",
    "\n",
    "# fig, axes = plt.subplots(nrows=3, ncols=4, figsize=(25, 18))\n",
    "# for cat, ax in zip(product_categories, flatten(axes)):\n",
    "fig = plt.figure(figsize=(14, 14))\n",
    "\n",
    "for i, cat in enumerate(product_categories):\n",
    "    ax = fig.add_subplot(3, 3, i + 1)\n",
    "    mask = g.data[\"pnns_groups_1\"] == cat\n",
    "    g.data[mask][\"nutrition_grade_fr\"].value_counts().sort_index().plot.pie(\n",
    "        colors=palette_nutriscore,\n",
    "        autopct=\"%1.1f%%\",\n",
    "        pctdistance=0.7,\n",
    "        labels=None,\n",
    "        textprops=dict(color=\"w\", fontsize=12, fontweight=\"bold\"),\n",
    "        ax=ax,\n",
    "    )\n",
    "    ax.set_title(cat)\n",
    "    ax.set_ylabel(\"\")\n",
    "lines = [Patch(facecolor=c, edgecolor=None) for c in palette_nutriscore.as_hex()]\n",
    "labels = g.data[\"nutrition_grade_fr\"].cat.categories\n",
    "fig.legend(lines, labels, loc=\"center left\", bbox_to_anchor=(1, 0.5), prop={\"size\": 20})\n",
    "plt.tight_layout()\n"
   ]
  },
  {
   "cell_type": "code",
   "execution_count": null,
   "metadata": {},
   "outputs": [],
   "source": [
    "from matplotlib.patches import Patch\n",
    "\n",
    "product_categories = [cat for cat in g.data[\"pnns_groups_1\"].cat.categories]\n",
    "\n",
    "# fig, axes = plt.subplots(nrows=3, ncols=4, figsize=(25, 18))\n",
    "# for cat, ax in zip(product_categories, flatten(axes)):\n",
    "fig = plt.figure(figsize=(14, 14))\n",
    "\n",
    "for i, cat in enumerate(product_categories):\n",
    "    ax = fig.add_subplot(3, 3, i + 1)\n",
    "    mask = g.data[\"pnns_groups_1\"] == cat\n",
    "    g.data[mask][\"nutrition_grade_fr_\"].value_counts().sort_index().plot.pie(\n",
    "        colors=palette_nutriscore,\n",
    "        autopct=\"%1.1f%%\",\n",
    "        pctdistance=0.7,\n",
    "        labels=None,\n",
    "        textprops=dict(color=\"w\", fontsize=12, fontweight=\"bold\"),\n",
    "        ax=ax,\n",
    "    )\n",
    "    ax.set_title(cat)\n",
    "    ax.set_ylabel(\"\")\n",
    "lines = [Patch(facecolor=c, edgecolor=None) for c in palette_nutriscore.as_hex()]\n",
    "labels = g.data[\"nutrition_grade_fr_\"].cat.categories\n",
    "fig.legend(lines, labels, loc=\"center left\", bbox_to_anchor=(1, 0.5), prop={\"size\": 20})\n",
    "plt.tight_layout()\n"
   ]
  },
  {
   "cell_type": "code",
   "execution_count": null,
   "metadata": {},
   "outputs": [],
   "source": [
    "category = \"pnns_groups_2\"\n",
    "fig = plt.figure(figsize=(12, 10))\n",
    "df = g.data.value_counts([category, \"nutrition_grade_fr\"])\n",
    "df = df.reset_index(name=\"Frequency\").pivot(\n",
    "    index=category, columns=[\"nutrition_grade_fr\"]\n",
    ")[\"Frequency\"]\n",
    "df = (df.T / df.T.sum()).T\n",
    "df.plot.barh(stacked=True, color=palette_nutriscore, width=0.8, ax=plt.gca())\n",
    "plt.legend(loc=\"center left\", bbox_to_anchor=(1, 0.5))\n",
    "plt.xlabel(\"Ratio de nombre produits par catégories\")\n",
    "plt.xlim(0, 1)\n"
   ]
  },
  {
   "cell_type": "code",
   "execution_count": null,
   "metadata": {},
   "outputs": [],
   "source": [
    "category = \"pnns_groups_2\"\n",
    "fig = plt.figure(figsize=(12, 10))\n",
    "df = g.data.value_counts([category, \"nutrition_grade_fr_\"])\n",
    "df = df.reset_index(name=\"Frequency\").pivot(\n",
    "    index=category, columns=[\"nutrition_grade_fr_\"]\n",
    ")[\"Frequency\"]\n",
    "df = (df.T / df.T.sum()).T\n",
    "df.plot.barh(stacked=True, color=palette_nutriscore, width=0.8, ax=plt.gca())\n",
    "plt.legend(loc=\"center left\", bbox_to_anchor=(1, 0.5))\n",
    "plt.xlabel(\"Ratio de nombre produits par catégories\")\n",
    "plt.xlim(0, 1)\n"
   ]
  },
  {
   "attachments": {},
   "cell_type": "markdown",
   "metadata": {},
   "source": [
    "## Anova"
   ]
  },
  {
   "cell_type": "code",
   "execution_count": null,
   "metadata": {},
   "outputs": [],
   "source": [
    "import scipy\n"
   ]
  },
  {
   "cell_type": "code",
   "execution_count": null,
   "metadata": {},
   "outputs": [],
   "source": [
    "# Create ANOVA backbone table\n",
    "data = [\n",
    "    [\"Between Groups\", \"c - 1\", \"SSM\", \"MSM\", \"MSE/MSM\", \"p\", \"Falpha;I-1,n-I\"],\n",
    "    [\"Within Groups\", \"n - c\", \"SSE\", \"MSE\", \"\", \"\", \"\"],\n",
    "    [\"Total\", \"n - 1\", \"SST\", \"\", \"\", \"\", \"\"],\n",
    "]\n",
    "anova_table = pd.DataFrame(\n",
    "    data, columns=[\"Source of Variation\", \"dof\", \"SS\", \"MS\", \"F\", \"P-value\", \"F crit\"]\n",
    ")\n",
    "anova_table.set_index(\"Source of Variation\", inplace=True)\n",
    "anova_table\n"
   ]
  },
  {
   "cell_type": "code",
   "execution_count": null,
   "metadata": {},
   "outputs": [],
   "source": [
    "feature_qual = \"pnns_groups_1\"\n",
    "feature_quant = \"nutrition-score-fr_100g\"\n",
    "df = g.data[[feature_quant, feature_qual]].dropna()\n",
    "\n",
    "# calculate SSM and update anova table\n",
    "x_bar = df[feature_quant].mean()\n",
    "SSM = df.groupby(feature_qual).count() * (df.groupby(feature_qual).mean() - x_bar) ** 2\n",
    "anova_table[\"SS\"][\"Between Groups\"] = SSM[feature_quant].sum()\n",
    "\n",
    "# calculate SSE and update anova table\n",
    "SSE = (df.groupby(feature_qual).count() - 1) * df.groupby(feature_qual).std() ** 2\n",
    "anova_table[\"SS\"][\"Within Groups\"] = SSE[feature_quant].sum()\n",
    "\n",
    "# calculate SST and update anova table\n",
    "SST = SSM[feature_quant].sum() + SSE[feature_quant].sum()\n",
    "anova_table[\"SS\"][\"Total\"] = SST\n",
    "\n",
    "# update degree of freedom\n",
    "anova_table[\"dof\"][\"Between Groups\"] = df[feature_qual].nunique() - 1\n",
    "anova_table[\"dof\"][\"Within Groups\"] = df.shape[0] - df[feature_qual].nunique()\n",
    "anova_table[\"dof\"][\"Total\"] = df.shape[0] - 1\n",
    "\n",
    "# calculate MS\n",
    "anova_table[\"MS\"] = anova_table[\"SS\"] / anova_table[\"dof\"]\n",
    "\n",
    "# calculate F\n",
    "F = anova_table[\"MS\"][\"Between Groups\"] / anova_table[\"MS\"][\"Within Groups\"]\n",
    "anova_table[\"F\"][\"Between Groups\"] = F\n",
    "\n",
    "# p-value\n",
    "anova_table[\"P-value\"][\"Between Groups\"] = 1 - scipy.stats.f.cdf(\n",
    "    F, anova_table[\"dof\"][\"Between Groups\"], anova_table[\"dof\"][\"Within Groups\"]\n",
    ")\n",
    "\n",
    "# F critical\n",
    "alpha = 0.05\n",
    "# possible types \"right-tailed, left-tailed, two-tailed\"\n",
    "tail_hypothesis_type = \"two-tailed\"\n",
    "if tail_hypothesis_type == \"two-tailed\":\n",
    "    alpha /= 2\n",
    "anova_table[\"F crit\"][\"Between Groups\"] = scipy.stats.f.ppf(\n",
    "    1 - alpha, anova_table[\"dof\"][\"Between Groups\"], anova_table[\"dof\"][\"Within Groups\"]\n",
    ")\n",
    "\n",
    "# Final ANOVA Table\n",
    "anova_table\n"
   ]
  },
  {
   "cell_type": "code",
   "execution_count": null,
   "metadata": {},
   "outputs": [],
   "source": [
    "arr = [\n",
    "    df[df[feature_qual] == group][feature_quant].to_numpy()\n",
    "    for group in df[feature_qual].cat.categories\n",
    "]\n",
    "scipy.stats.f_oneway(*arr)\n"
   ]
  },
  {
   "attachments": {},
   "cell_type": "markdown",
   "metadata": {},
   "source": [
    "Vérifion si le Nutri-Score suit une loi normale, qui est une des conditions pour que le test ANOVA soit interprétable."
   ]
  },
  {
   "cell_type": "code",
   "execution_count": null,
   "metadata": {},
   "outputs": [],
   "source": [
    "plt.figure(figsize=(10, 8))\n",
    "ax = sns.kdeplot(\n",
    "    data=g.data,\n",
    "    x=\"nutrition-score-fr_100g\",\n",
    "    hue=\"pnns_groups_1\",\n",
    ")\n",
    "sns.move_legend(ax, \"upper left\", bbox_to_anchor=(1, 1))\n",
    "plt.setp(ax.get_legend().get_title(), fontweight=\"bold\")\n"
   ]
  },
  {
   "cell_type": "code",
   "execution_count": null,
   "metadata": {},
   "outputs": [],
   "source": [
    "plt.figure(figsize=(10, 8))\n",
    "ax = sns.kdeplot(\n",
    "    data=g.data,\n",
    "    x=\"nutrition-score-fr_100g\",\n",
    "    hue=\"pnns_groups_2\",\n",
    ")\n",
    "sns.move_legend(ax, \"upper left\", bbox_to_anchor=(1, 1), ncols=2)\n",
    "plt.setp(ax.get_legend().get_title(), fontweight=\"bold\")\n"
   ]
  },
  {
   "attachments": {},
   "cell_type": "markdown",
   "metadata": {},
   "source": [
    "Selon les catégories nous voyons que le score nutrionnel ne suit pas une loi normale. L'utilisation du test ANOVA n'est donc pas pertinente."
   ]
  },
  {
   "attachments": {},
   "cell_type": "markdown",
   "metadata": {},
   "source": [
    "## Kruskal Wallis test"
   ]
  },
  {
   "attachments": {},
   "cell_type": "markdown",
   "metadata": {},
   "source": [
    "Le test H de Kruskal-Wallis teste l'hypothèse nulle selon laquelle la médiane de la population de tous les groupes est égale. Il s'agit d'une version non paramétrique de l'ANOVA. Le test fonctionne sur 2 échantillons indépendants ou plus, qui peuvent avoir des tailles différentes."
   ]
  },
  {
   "attachments": {},
   "cell_type": "markdown",
   "metadata": {},
   "source": [
    "Pour les groupes PNNS 1 :"
   ]
  },
  {
   "cell_type": "code",
   "execution_count": null,
   "metadata": {},
   "outputs": [],
   "source": [
    "res = scipy.stats.kruskal(\n",
    "    *[\n",
    "        s[1].to_numpy()\n",
    "        for s in g.data.dropna(subset=\"nutrition-score-fr_100g\").groupby(\n",
    "            \"pnns_groups_1\"\n",
    "        )[\"nutrition-score-fr_100g\"]\n",
    "    ]\n",
    ")\n",
    "res\n"
   ]
  },
  {
   "attachments": {},
   "cell_type": "markdown",
   "metadata": {},
   "source": [
    "Pour les groupes PNNS 2 :"
   ]
  },
  {
   "cell_type": "code",
   "execution_count": null,
   "metadata": {},
   "outputs": [],
   "source": [
    "scipy.stats.kruskal(\n",
    "    *[\n",
    "        s[1].to_numpy()\n",
    "        for s in g.data.dropna(subset=\"nutrition-score-fr_100g\").groupby(\n",
    "            \"pnns_groups_2\"\n",
    "        )[\"nutrition-score-fr_100g\"]\n",
    "    ]\n",
    ")\n"
   ]
  },
  {
   "attachments": {},
   "cell_type": "markdown",
   "metadata": {},
   "source": [
    "L'hypothèse nulle, selon laquelle la population de produits selon. chaque catégorie PNNS partagent la même valeur médiane de score nutritionnel, est rejeté avec un niveau de confiance supérieur à 99.9% (p-value < 0.01). Cela est constaté à la foie pour les catégories PNNS 1 et 2 "
   ]
  },
  {
   "attachments": {},
   "cell_type": "markdown",
   "metadata": {},
   "source": [
    "Cela confirme que les catégories PNNS sont utiles pour la prédiction du Nutri-Score, puisque selon la catégorie un produit aura plus ou moins de chance d'avoir soit une Nutri-Score élevé."
   ]
  },
  {
   "attachments": {},
   "cell_type": "markdown",
   "metadata": {},
   "source": [
    "# Matrice de corrélation"
   ]
  },
  {
   "attachments": {},
   "cell_type": "markdown",
   "metadata": {},
   "source": [
    "Regardons la matrice de corrélation pour voir si les variables d'intérêts selectionnées sont corrélées avec le Nutri-Score. Si ce n'est pas le cas, cela veut dire qu'elles n'apportent aucune information pour la prédiction du Nutri-Score. Toutefois nous nous méfierons qu'un facteur de corrélation de 0 n'indique pas forcément une absence de corrélation. "
   ]
  },
  {
   "cell_type": "code",
   "execution_count": null,
   "metadata": {},
   "outputs": [],
   "source": [
    "columns_numeric = [\n",
    "    col\n",
    "    for col in g.data\n",
    "    if pd.api.types.is_numeric_dtype(g.data[col])\n",
    "    if \"emb\" not in col and \"tsne\" not in col\n",
    "]\n",
    "columns_numeric.remove(\"created_t\")\n",
    "# columns_numeric.remove(\"nutrition-score-fr_100g\")\n",
    "\n",
    "plt.figure(figsize=(14, 12))\n",
    "mat_corr = g.data[columns_numeric].corr()\n",
    "mask = np.zeros_like(mat_corr)\n",
    "mask[np.triu_indices(mat_corr.shape[0])] = True\n",
    "_ = sns.heatmap(\n",
    "    mat_corr,\n",
    "    # mask=mask,\n",
    "    # linewidths=0,\n",
    "    annot=True,\n",
    "    fmt=\".0%\",\n",
    "    cmap=\"RdBu_r\",\n",
    "    vmin=-1,\n",
    "    vmax=1,\n",
    "    annot_kws={\"fontsize\": 9},\n",
    "    linewidths=2,\n",
    "    linecolor=\"gray\",\n",
    "    square=True,\n",
    ")\n",
    "sns.despine(\n",
    "    fig=None,\n",
    "    ax=None,\n",
    "    top=False,\n",
    "    right=False,\n",
    "    left=False,\n",
    "    bottom=False,\n",
    "    offset=None,\n",
    "    trim=False,\n",
    ")\n",
    "\n",
    "plt.figure(figsize=(14, 12))\n",
    "_ = sns.heatmap(\n",
    "    np.abs(mat_corr),\n",
    "    # mask=mask,\n",
    "    # linewidth=0,\n",
    "    annot=True,\n",
    "    fmt=\".0%\",\n",
    "    cmap=\"Reds\",\n",
    "    vmin=0,\n",
    "    vmax=1,\n",
    "    annot_kws={\"fontsize\": 9},\n",
    "    linewidths=2,\n",
    "    linecolor=\"gray\",\n",
    ")\n",
    "sns.despine(\n",
    "    fig=None,\n",
    "    ax=None,\n",
    "    top=False,\n",
    "    right=False,\n",
    "    left=False,\n",
    "    bottom=False,\n",
    "    offset=None,\n",
    "    trim=False,\n",
    ")\n"
   ]
  },
  {
   "attachments": {},
   "cell_type": "markdown",
   "metadata": {},
   "source": [
    "Nous remarquons que la plupart des variables ont un facteur de corrélation superieure à 10% avec le Nutri-Score (nutrition_grade_fr) ce qui valide notre choix dans les variables à utiliser pour la prédiction du Nutri-Score. Les variables qui montrent le plus de corrélation avec le Nutri-Score sont les quantités d'énergie, de graisses et de sucres, elles auront un rôle clé dans la prédiction du Nutri-Score. "
   ]
  },
  {
   "attachments": {},
   "cell_type": "markdown",
   "metadata": {},
   "source": [
    "# Analyse PCA"
   ]
  },
  {
   "cell_type": "code",
   "execution_count": null,
   "metadata": {},
   "outputs": [],
   "source": [
    "from sklearn.decomposition import PCA\n",
    "from sklearn.preprocessing import StandardScaler\n",
    "from sklearn.pipeline import Pipeline\n",
    "from sklearn.compose import ColumnTransformer\n"
   ]
  },
  {
   "cell_type": "code",
   "execution_count": null,
   "metadata": {},
   "outputs": [],
   "source": [
    "pipeline = Pipeline([(\"scale\", StandardScaler()), (\"pca\", PCA())])\n"
   ]
  },
  {
   "cell_type": "code",
   "execution_count": null,
   "metadata": {},
   "outputs": [],
   "source": [
    "columns_numeric.remove(\"nutrition-score-fr_100g\")\n",
    "columns_numeric.remove(\"nutrition_grade_fr__\")\n",
    "df = g.data[columns_numeric].dropna()\n",
    "df\n"
   ]
  },
  {
   "cell_type": "code",
   "execution_count": null,
   "metadata": {},
   "outputs": [],
   "source": [
    "df_pca = pd.DataFrame(\n",
    "    pipeline.fit_transform(df),\n",
    "    columns=[f\"F{i+1}\" for i, _ in enumerate(df.columns)],\n",
    "    index=df.index,\n",
    ")\n",
    "df_pca\n"
   ]
  },
  {
   "cell_type": "code",
   "execution_count": null,
   "metadata": {},
   "outputs": [],
   "source": [
    "pca = pipeline[\"pca\"]\n",
    "\n",
    "x = np.arange(0, len(pca.explained_variance_ratio_))\n",
    "y = pca.explained_variance_ratio_ * 100\n",
    "\n",
    "plt.bar(x, y)\n",
    "plt.plot(x, y.cumsum(), c=\"red\", marker=\"o\")\n",
    "plt.xlabel(\"Rang de l'axe d'inertie\")\n",
    "plt.ylabel(\"Pourcentage d'inertie\")\n",
    "plt.title(\"Éboulis des valeurs propres\")\n",
    "plt.show(block=False)\n"
   ]
  },
  {
   "cell_type": "code",
   "execution_count": null,
   "metadata": {},
   "outputs": [],
   "source": [
    "def plot_pca_cercle_correlation(x_id, y_id):\n",
    "    _, ax = plt.subplots(figsize=(10, 9))\n",
    "    for i, color in zip(\n",
    "        range(0, pca.components_.shape[1]), sns.color_palette(\"tab20\", 30)\n",
    "    ):\n",
    "        ax.arrow(\n",
    "            0,\n",
    "            0,  # Start the arrow at the origin\n",
    "            pca.components_[x_id, i],  # 0 for PC1\n",
    "            pca.components_[y_id, i],  # 1 for PC2\n",
    "            head_width=0.035,\n",
    "            head_length=0.025,\n",
    "            width=0.01,\n",
    "            color=color,\n",
    "            label=df.columns[i],\n",
    "        )\n",
    "\n",
    "        # plt.text(pca.components_[0, i] + 0.05, pca.components_[1, i] + 0.05, df.columns[i])\n",
    "\n",
    "    # affichage des lignes horizontales et verticales\n",
    "    plt.plot([-1, 1], [0, 0], color=\"grey\", ls=\"--\")\n",
    "    plt.plot([0, 0], [-1, 1], color=\"grey\", ls=\"--\")\n",
    "\n",
    "    # nom des axes, avec le pourcentage d'inertie expliqué\n",
    "    plt.xlabel(\n",
    "        \"F{} ({}%)\".format(\n",
    "            x_id + 1, np.round(100 * pca.explained_variance_ratio_[x_id], 1)\n",
    "        )\n",
    "    )\n",
    "    plt.ylabel(\n",
    "        \"F{} ({}%)\".format(\n",
    "            y_id + 1, np.round(100 * pca.explained_variance_ratio_[y_id], 1)\n",
    "        )\n",
    "    )\n",
    "\n",
    "    plt.title(\"Cercle des corrélations (F{} et F{})\".format(x_id + 1, y_id + 1))\n",
    "\n",
    "    an = np.linspace(0, 2 * np.pi, 100)\n",
    "    plt.plot(np.cos(an), np.sin(an))  # Add a unit circle for scale\n",
    "    plt.axis(\"equal\")\n",
    "    plt.legend(loc=\"center left\", bbox_to_anchor=(1, 0.5))\n",
    "    plt.show(block=False)\n",
    "\n",
    "\n",
    "plot_pca_cercle_correlation(0, 1)\n",
    "plot_pca_cercle_correlation(2, 3)\n"
   ]
  },
  {
   "cell_type": "code",
   "execution_count": null,
   "metadata": {},
   "outputs": [],
   "source": [
    "import bokeh\n",
    "import bokeh.plotting\n",
    "import bokeh.io\n",
    "\n",
    "bokeh.io.output_notebook()\n",
    "\n",
    "p = bokeh.plotting.figure(\n",
    "    tools=\"pan,wheel_zoom,reset,hover\",\n",
    "    tooltips=[\n",
    "        (\"Name\", \"@product_name\"),\n",
    "        (\"Grade\", \"@nutrition_grade_fr\"),\n",
    "        (\"Ingredients\", \"@ingredients_\"),\n",
    "    ],\n",
    ")\n",
    "\n",
    "for group, color in zip(\n",
    "    g.data[\"nutrition_grade_fr\"].cat.categories, palette_nutriscore.as_hex()\n",
    "):\n",
    "    mask = g.data[\"nutrition_grade_fr\"] == group\n",
    "    p.scatter(\n",
    "        x=\"F3\",\n",
    "        y=\"F4\",\n",
    "        source=bokeh.models.ColumnDataSource(\n",
    "            pd.concat(\n",
    "                [\n",
    "                    df_pca,\n",
    "                    g.data,\n",
    "                    pd.DataFrame({\"ingredients_\": g.data.ingredients.str.join(\"\\n\")}),\n",
    "                ],\n",
    "                axis=1,\n",
    "            )[mask.to_numpy()]\n",
    "        ),\n",
    "        line_width=0,\n",
    "        alpha=0.1,\n",
    "        color=color,\n",
    "        legend_label=group,\n",
    "    )\n",
    "p.legend.click_policy = \"hide\"\n",
    "bokeh.plotting.show(p)\n"
   ]
  },
  {
   "attachments": {},
   "cell_type": "markdown",
   "metadata": {},
   "source": [
    "# T-SNE"
   ]
  },
  {
   "cell_type": "code",
   "execution_count": null,
   "metadata": {},
   "outputs": [],
   "source": [
    "numerical_features = [\n",
    "    f\n",
    "    for f in g.data.select_dtypes(include=np.number)\n",
    "    if \"created\" not in f and \"nutri\" not in f\n",
    "    # and \"brands\" not in f\n",
    "    # and \"ingredient\" not in f\n",
    "    # and \"product\" not in f\n",
    "]\n",
    "\n",
    "try:\n",
    "    numerical_features.remove(\"tsne_x\")\n",
    "    numerical_features.remove(\"tsne_y\")\n",
    "except Exception:\n",
    "    pass\n",
    "\n",
    "numerical_features\n"
   ]
  },
  {
   "cell_type": "code",
   "execution_count": null,
   "metadata": {},
   "outputs": [],
   "source": [
    "from sklearn.preprocessing import StandardScaler\n",
    "\n",
    "pipeline = Pipeline(\n",
    "    [\n",
    "        (\n",
    "            \"pnns_encoding\",\n",
    "            ColumnTransformer(\n",
    "                [\n",
    "                    (\n",
    "                        \"pnns\",\n",
    "                        OneHotEncoder(sparse_output=False),\n",
    "                        [\"pnns_groups_1\", \"pnns_groups_2\"],\n",
    "                    ),\n",
    "                    (\"numeric\", \"passthrough\", numerical_features),\n",
    "                ]\n",
    "            ),\n",
    "        ),\n",
    "        (\"scaler\", StandardScaler()),\n",
    "        (\"tsne\", TSNE(perplexity=100, init=\"pca\")),\n",
    "    ]\n",
    ")\n",
    "\n",
    "force_computation = False\n",
    "data_tsne_file = Path(\"tsne_reduction_coors.npy\")\n",
    "if data_tsne_file.exists() and not force_computation:\n",
    "    coords = np.load(data_tsne_file)\n",
    "else:\n",
    "    coords = pipeline.fit_transform(X=g.data)\n",
    "    np.save(data_tsne_file, coords)\n"
   ]
  },
  {
   "cell_type": "code",
   "execution_count": null,
   "metadata": {},
   "outputs": [],
   "source": [
    "g.data[\"tsne_x\"] = coords[:, 0]\n",
    "g.data[\"tsne_y\"] = coords[:, 1]\n"
   ]
  },
  {
   "cell_type": "code",
   "execution_count": null,
   "metadata": {},
   "outputs": [],
   "source": [
    "from bokeh.plotting import figure, show\n",
    "from bokeh.models import Legend, ColumnDataSource, HoverTool\n",
    "from itertools import cycle\n",
    "\n",
    "\n",
    "def style_color_marker(n, color_list, marker_list):\n",
    "    style_list = []\n",
    "    all_styles = cycle(\n",
    "        [(color, marker) for marker in marker_list for color in color_list]\n",
    "    )\n",
    "    return [next(all_styles) for _ in range(n)]\n",
    "\n",
    "\n",
    "def plot_tsne_with_bokeh(\n",
    "    data,\n",
    "    tsne_var,\n",
    "    group_cat,\n",
    "    tooltip_var=[\"product_name\", \"nutrition_grade_fr\"],\n",
    "    colors=None,\n",
    "):\n",
    "    data = pd.DataFrame(data)\n",
    "\n",
    "    cat_column = data[group_cat].astype(\"category\")\n",
    "    categories = cat_column.cat.categories\n",
    "\n",
    "    p = figure(\n",
    "        height=800,\n",
    "        width=900,\n",
    "        tools=\"pan, wheel_zoom,box_zoom, reset, save\",\n",
    "        active_drag=\"pan\",\n",
    "        active_scroll=\"wheel_zoom\",\n",
    "    )\n",
    "    try:\n",
    "        p.add_layout(Legend(ncols=2, nrows=19), \"right\")  # bokeh 3.X\n",
    "    except Exception:\n",
    "        p.add_layout(Legend())  # bokeh 2.X\n",
    "\n",
    "    if colors is None:\n",
    "        colors = sns.color_palette(\"tab10\").as_hex()\n",
    "    markers = [\n",
    "        \"circle\",\n",
    "        \"triangle\",\n",
    "        \"square\",\n",
    "        \"plus\",\n",
    "        \"star\",\n",
    "        \"square_pin\",\n",
    "        \"inverted_triangle\",\n",
    "        \"diamond\",\n",
    "        \"hex\",\n",
    "    ]\n",
    "\n",
    "    renderer_list = []\n",
    "    for (\n",
    "        group,\n",
    "        (color, marker),\n",
    "    ) in zip(categories, style_color_marker(len(categories), colors, markers)):\n",
    "        mask = cat_column[data.index] == group\n",
    "        df = data[mask]\n",
    "        data_source = ColumnDataSource(df)\n",
    "\n",
    "        glyph = p.scatter(\n",
    "            source=data_source,\n",
    "            x=f\"{tsne_var}_x\",\n",
    "            y=f\"{tsne_var}_y\",\n",
    "            legend_label=str(group),\n",
    "            fill_alpha=0.4,\n",
    "            size=6,\n",
    "            line_width=0,  # 0.2,\n",
    "            # line_color=\"white\",\n",
    "            color=color,\n",
    "            marker=marker,\n",
    "        )\n",
    "        renderer_list.append(glyph)\n",
    "        # glyph.muted = True\n",
    "\n",
    "    hover_tool = HoverTool(\n",
    "        renderers=renderer_list,\n",
    "        tooltips=[(var, f\"@{var}\") for var in tooltip_var],\n",
    "    )\n",
    "    p.add_tools(hover_tool)\n",
    "    p.legend.click_policy = \"hide\"\n",
    "\n",
    "    p.xaxis.axis_label = \"Embedding X\"\n",
    "    p.xaxis.axis_label_text_font_style = \"bold\"\n",
    "    p.yaxis.axis_label = \"Embedding Y\"\n",
    "    p.yaxis.axis_label_text_font_style = \"bold\"\n",
    "\n",
    "    return p\n"
   ]
  },
  {
   "cell_type": "code",
   "execution_count": null,
   "metadata": {},
   "outputs": [],
   "source": [
    "plot = plot_tsne_with_bokeh(\n",
    "    g.data, \"tsne\", group_cat=\"nutrition_grade_fr_\", colors=palette_nutriscore.as_hex()\n",
    ")\n",
    "show(plot)\n"
   ]
  },
  {
   "attachments": {},
   "cell_type": "markdown",
   "metadata": {},
   "source": [
    "# Simple Classification"
   ]
  },
  {
   "cell_type": "code",
   "execution_count": null,
   "metadata": {},
   "outputs": [],
   "source": [
    "numerical_features = [\n",
    "    f\n",
    "    for f in g.data.select_dtypes(include=np.number)\n",
    "    if \"created\" not in f and \"nutri\" not in f and \"emb\" not in f\n",
    "]\n",
    "\n",
    "try:\n",
    "    numerical_features.remove(\"tsne_x\")\n",
    "    numerical_features.remove(\"tsne_y\")\n",
    "except Exception:\n",
    "    pass\n",
    "\n",
    "numerical_features\n"
   ]
  },
  {
   "cell_type": "code",
   "execution_count": null,
   "metadata": {},
   "outputs": [],
   "source": [
    "from sklearn.neighbors import KNeighborsRegressor, KNeighborsClassifier\n",
    "from sklearn.model_selection import train_test_split\n",
    "\n",
    "pipeline = Pipeline(\n",
    "    [\n",
    "        (\n",
    "            \"pnns_encoding\",\n",
    "            ColumnTransformer(\n",
    "                [\n",
    "                    (\n",
    "                        \"pnns\",\n",
    "                        OneHotEncoder(sparse_output=False),\n",
    "                        [\"pnns_groups_1\", \"pnns_groups_2\"],\n",
    "                    ),\n",
    "                    (\"numeric\", \"passthrough\", numerical_features),\n",
    "                ]\n",
    "            ),\n",
    "        ),\n",
    "        (\"scaler\", StandardScaler()),\n",
    "        (\"regressor\", KNeighborsClassifier(n_neighbors=1)),\n",
    "    ]\n",
    ")\n",
    "\n",
    "\n",
    "X = g.data.dropna(subset=\"nutrition_grade_fr\")[\n",
    "    numerical_features + [\"pnns_groups_1\", \"pnns_groups_2\"]\n",
    "]\n",
    "y = g.data.dropna(subset=\"nutrition_grade_fr\")[\"nutrition_grade_fr__\"]\n",
    "X_train, X_test, y_train, y_test = train_test_split(\n",
    "    X, y, stratify=y, test_size=0.7, random_state=42\n",
    ")\n"
   ]
  },
  {
   "cell_type": "code",
   "execution_count": null,
   "metadata": {},
   "outputs": [],
   "source": [
    "pipeline.fit(X_train, y_train)\n"
   ]
  },
  {
   "cell_type": "code",
   "execution_count": null,
   "metadata": {},
   "outputs": [],
   "source": [
    "y_pred = pipeline.predict(X=X_test)\n"
   ]
  },
  {
   "cell_type": "code",
   "execution_count": null,
   "metadata": {},
   "outputs": [],
   "source": [
    "# (y_pred - y_test).plot.barh(bins=100)\n"
   ]
  },
  {
   "cell_type": "code",
   "execution_count": null,
   "metadata": {},
   "outputs": [],
   "source": [
    "(y_pred == y_test).sum() / y_test.count()\n"
   ]
  },
  {
   "cell_type": "code",
   "execution_count": null,
   "metadata": {},
   "outputs": [],
   "source": [
    "from sklearn.metrics import confusion_matrix\n",
    "from sklearn.metrics import ConfusionMatrixDisplay\n",
    "\n",
    "\n",
    "cm = confusion_matrix(y_test, y_pred)\n",
    "cm_display = ConfusionMatrixDisplay(cm, display_labels=\"ABCDE\").plot()\n"
   ]
  },
  {
   "cell_type": "code",
   "execution_count": null,
   "metadata": {},
   "outputs": [],
   "source": [
    "from xgboost import XGBClassifier\n",
    "\n",
    "\n",
    "pipeline = Pipeline(\n",
    "    [\n",
    "        (\n",
    "            \"pnns_encoding\",\n",
    "            ColumnTransformer(\n",
    "                [\n",
    "                    (\n",
    "                        \"pnns\",\n",
    "                        OneHotEncoder(sparse_output=False),\n",
    "                        [\"pnns_groups_1\", \"pnns_groups_2\"],\n",
    "                    ),\n",
    "                    (\"numeric\", \"passthrough\", numerical_features),\n",
    "                ]\n",
    "            ),\n",
    "        ),\n",
    "        (\"scaler\", StandardScaler()),\n",
    "        (\"predictor\", XGBClassifier()),\n",
    "    ]\n",
    ")\n",
    "\n",
    "\n",
    "X = g.data.dropna(subset=\"nutrition_grade_fr\")[\n",
    "    numerical_features + [\"pnns_groups_1\", \"pnns_groups_2\"]\n",
    "]\n",
    "y = g.data.dropna(subset=\"nutrition_grade_fr\")[\"nutrition_grade_fr__\"]\n",
    "X_train, X_test, y_train, y_test = train_test_split(\n",
    "    X, y, stratify=y, test_size=0.7, random_state=43\n",
    ")\n",
    "\n",
    "pipeline.fit(X_train, y_train)\n",
    "y_pred = pipeline.predict(X=X_test)\n"
   ]
  },
  {
   "cell_type": "code",
   "execution_count": null,
   "metadata": {},
   "outputs": [],
   "source": [
    "cm = confusion_matrix(y_test, y_pred)\n",
    "\n",
    "cm_display = ConfusionMatrixDisplay(cm, display_labels=\"ABCDE\").plot()\n"
   ]
  },
  {
   "cell_type": "code",
   "execution_count": null,
   "metadata": {},
   "outputs": [],
   "source": [
    "(y_pred == y_test).sum() / y_test.count()\n"
   ]
  },
  {
   "cell_type": "code",
   "execution_count": null,
   "metadata": {},
   "outputs": [],
   "source": []
  },
  {
   "cell_type": "code",
   "execution_count": null,
   "metadata": {},
   "outputs": [],
   "source": []
  }
 ],
 "metadata": {
  "kernelspec": {
   "display_name": "Python 3 (ipykernel)",
   "language": "python",
   "name": "python3"
  },
  "language_info": {
   "codemirror_mode": {
    "name": "ipython",
    "version": 3
   },
   "file_extension": ".py",
   "mimetype": "text/x-python",
   "name": "python",
   "nbconvert_exporter": "python",
   "pygments_lexer": "ipython3",
   "version": "3.10.10"
  }
 },
 "nbformat": 4,
 "nbformat_minor": 4
}
